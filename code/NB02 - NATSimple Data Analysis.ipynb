{
 "cells": [
  {
   "cell_type": "markdown",
   "metadata": {},
   "source": [
    "# 1. Load the JSON data"
   ]
  },
  {
   "cell_type": "code",
   "execution_count": 257,
   "metadata": {},
   "outputs": [],
   "source": [
    "import json\n",
    "\n",
    "import pandas as pd"
   ]
  },
  {
   "cell_type": "code",
   "execution_count": 258,
   "metadata": {},
   "outputs": [
    {
     "data": {
      "text/plain": [
       "dict_keys(['London', 'Singapore', 'Cairo', 'Buenos Aires', 'Mumbai'])"
      ]
     },
     "execution_count": 258,
     "metadata": {},
     "output_type": "execute_result"
    }
   ],
   "source": [
    "with open('../data/multicity_historical.json', 'r') as file:\n",
    "    data = json.load(file)\n",
    "\n",
    "data.keys()"
   ]
  },
  {
   "cell_type": "markdown",
   "metadata": {},
   "source": [
    "Let's make an empty list to hold dataframes for each city."
   ]
  },
  {
   "cell_type": "code",
   "execution_count": 259,
   "metadata": {},
   "outputs": [],
   "source": [
    "city_dfs = []"
   ]
  },
  {
   "cell_type": "markdown",
   "metadata": {},
   "source": [
    "Since we have 5 cities, we can use the loop function to stucture it into dataframes."
   ]
  },
  {
   "cell_type": "code",
   "execution_count": 260,
   "metadata": {},
   "outputs": [],
   "source": [
    "for city, values in data.items():\n",
    "    city_df = pd.DataFrame(values)\n",
    "    city_df['city'] = city  # Add a column for the city name\n",
    "    city_dfs.append(city_df)\n"
   ]
  },
  {
   "cell_type": "markdown",
   "metadata": {},
   "source": [
    "Let's concatenate all the city dataframes into a single dataframe."
   ]
  },
  {
   "cell_type": "code",
   "execution_count": null,
   "metadata": {},
   "outputs": [],
   "source": [
    "df = pd.concat(city_dfs, ignore_index=True)"
   ]
  },
  {
   "cell_type": "markdown",
   "metadata": {},
   "source": [
    "Display the first few rows to check the structure.\n",
    "\n",
    "I've used the display() function I searched on Copilot that displays the output in the same table format as W03 Lab NB02 notebooks. "
   ]
  },
  {
   "cell_type": "code",
   "execution_count": 262,
   "metadata": {},
   "outputs": [
    {
     "data": {
      "text/html": [
       "<div>\n",
       "<style scoped>\n",
       "    .dataframe tbody tr th:only-of-type {\n",
       "        vertical-align: middle;\n",
       "    }\n",
       "\n",
       "    .dataframe tbody tr th {\n",
       "        vertical-align: top;\n",
       "    }\n",
       "\n",
       "    .dataframe thead th {\n",
       "        text-align: right;\n",
       "    }\n",
       "</style>\n",
       "<table border=\"1\" class=\"dataframe\">\n",
       "  <thead>\n",
       "    <tr style=\"text-align: right;\">\n",
       "      <th></th>\n",
       "      <th>time</th>\n",
       "      <th>precipitation_sum</th>\n",
       "      <th>precipitation_hours</th>\n",
       "      <th>city</th>\n",
       "    </tr>\n",
       "  </thead>\n",
       "  <tbody>\n",
       "    <tr>\n",
       "      <th>0</th>\n",
       "      <td>2023-01-01</td>\n",
       "      <td>4.0</td>\n",
       "      <td>12.0</td>\n",
       "      <td>London</td>\n",
       "    </tr>\n",
       "    <tr>\n",
       "      <th>1</th>\n",
       "      <td>2023-01-02</td>\n",
       "      <td>0.2</td>\n",
       "      <td>2.0</td>\n",
       "      <td>London</td>\n",
       "    </tr>\n",
       "    <tr>\n",
       "      <th>2</th>\n",
       "      <td>2023-01-03</td>\n",
       "      <td>3.2</td>\n",
       "      <td>14.0</td>\n",
       "      <td>London</td>\n",
       "    </tr>\n",
       "    <tr>\n",
       "      <th>3</th>\n",
       "      <td>2023-01-04</td>\n",
       "      <td>0.9</td>\n",
       "      <td>5.0</td>\n",
       "      <td>London</td>\n",
       "    </tr>\n",
       "    <tr>\n",
       "      <th>4</th>\n",
       "      <td>2023-01-05</td>\n",
       "      <td>0.1</td>\n",
       "      <td>1.0</td>\n",
       "      <td>London</td>\n",
       "    </tr>\n",
       "  </tbody>\n",
       "</table>\n",
       "</div>"
      ],
      "text/plain": [
       "         time  precipitation_sum  precipitation_hours    city\n",
       "0  2023-01-01                4.0                 12.0  London\n",
       "1  2023-01-02                0.2                  2.0  London\n",
       "2  2023-01-03                3.2                 14.0  London\n",
       "3  2023-01-04                0.9                  5.0  London\n",
       "4  2023-01-05                0.1                  1.0  London"
      ]
     },
     "metadata": {},
     "output_type": "display_data"
    }
   ],
   "source": [
    "display(df.head())"
   ]
  },
  {
   "cell_type": "markdown",
   "metadata": {},
   "source": [
    "Display the last few rows to check the structure."
   ]
  },
  {
   "cell_type": "code",
   "execution_count": 263,
   "metadata": {},
   "outputs": [
    {
     "data": {
      "text/html": [
       "<div>\n",
       "<style scoped>\n",
       "    .dataframe tbody tr th:only-of-type {\n",
       "        vertical-align: middle;\n",
       "    }\n",
       "\n",
       "    .dataframe tbody tr th {\n",
       "        vertical-align: top;\n",
       "    }\n",
       "\n",
       "    .dataframe thead th {\n",
       "        text-align: right;\n",
       "    }\n",
       "</style>\n",
       "<table border=\"1\" class=\"dataframe\">\n",
       "  <thead>\n",
       "    <tr style=\"text-align: right;\">\n",
       "      <th></th>\n",
       "      <th>time</th>\n",
       "      <th>precipitation_sum</th>\n",
       "      <th>precipitation_hours</th>\n",
       "      <th>city</th>\n",
       "    </tr>\n",
       "  </thead>\n",
       "  <tbody>\n",
       "    <tr>\n",
       "      <th>1820</th>\n",
       "      <td>2023-12-27</td>\n",
       "      <td>0.0</td>\n",
       "      <td>0.0</td>\n",
       "      <td>Mumbai</td>\n",
       "    </tr>\n",
       "    <tr>\n",
       "      <th>1821</th>\n",
       "      <td>2023-12-28</td>\n",
       "      <td>0.0</td>\n",
       "      <td>0.0</td>\n",
       "      <td>Mumbai</td>\n",
       "    </tr>\n",
       "    <tr>\n",
       "      <th>1822</th>\n",
       "      <td>2023-12-29</td>\n",
       "      <td>0.0</td>\n",
       "      <td>0.0</td>\n",
       "      <td>Mumbai</td>\n",
       "    </tr>\n",
       "    <tr>\n",
       "      <th>1823</th>\n",
       "      <td>2023-12-30</td>\n",
       "      <td>0.0</td>\n",
       "      <td>0.0</td>\n",
       "      <td>Mumbai</td>\n",
       "    </tr>\n",
       "    <tr>\n",
       "      <th>1824</th>\n",
       "      <td>2023-12-31</td>\n",
       "      <td>0.0</td>\n",
       "      <td>0.0</td>\n",
       "      <td>Mumbai</td>\n",
       "    </tr>\n",
       "  </tbody>\n",
       "</table>\n",
       "</div>"
      ],
      "text/plain": [
       "            time  precipitation_sum  precipitation_hours    city\n",
       "1820  2023-12-27                0.0                  0.0  Mumbai\n",
       "1821  2023-12-28                0.0                  0.0  Mumbai\n",
       "1822  2023-12-29                0.0                  0.0  Mumbai\n",
       "1823  2023-12-30                0.0                  0.0  Mumbai\n",
       "1824  2023-12-31                0.0                  0.0  Mumbai"
      ]
     },
     "metadata": {},
     "output_type": "display_data"
    }
   ],
   "source": [
    "display(df.tail())"
   ]
  },
  {
   "cell_type": "markdown",
   "metadata": {},
   "source": [
    "I also want to check that there should be a total of 1825 entries (365 days x 5 cities)."
   ]
  },
  {
   "cell_type": "code",
   "execution_count": 264,
   "metadata": {},
   "outputs": [
    {
     "name": "stdout",
     "output_type": "stream",
     "text": [
      "1825\n"
     ]
    }
   ],
   "source": [
    "entries = len(df)\n",
    "print(entries)"
   ]
  },
  {
   "cell_type": "markdown",
   "metadata": {},
   "source": [
    "# 2. Calculate Key Metrics for Raininess Analysis\n",
    "\n",
    "Now that we have obtained the relevant data and sorted it into organised tables, we can calculate the following required metrics. \n",
    "\n",
    "We will be using groupby() function to obtain the data from the coreresponding columns required.\n",
    "\n",
    "- Total Rainfall: Sum of precipitation_sum for each city.\n",
    "\n",
    "- Number of Rainy Days: Days with precipitation_sum > 0\n",
    "\n",
    "- Average Rain Intensity: Total Rainfall / Number of Rainy Days\n",
    "\n",
    "- Average Rain Duration: Total precipitation_hours / Number of Rainy Days\n",
    "\n"
   ]
  },
  {
   "cell_type": "markdown",
   "metadata": {},
   "source": [
    "## 2.1 Total Rainfall"
   ]
  },
  {
   "cell_type": "code",
   "execution_count": 265,
   "metadata": {},
   "outputs": [
    {
     "data": {
      "text/plain": [
       "city\n",
       "Buenos Aires     916.3\n",
       "Cairo             28.3\n",
       "London           780.7\n",
       "Mumbai          2048.1\n",
       "Singapore       2364.7\n",
       "Name: precipitation_sum, dtype: float64"
      ]
     },
     "metadata": {},
     "output_type": "display_data"
    }
   ],
   "source": [
    "# Group by 'city' and sum the 'precipitation' for each group\n",
    "total_rainfall = df.groupby('city')['precipitation_sum'].sum()\n",
    "\n",
    "# First column is the city name, second column is the sum of precipitation\n",
    "total_rainfall.columns = ['City', 'Total Rainfall']\n",
    "\n",
    "# Display the result\n",
    "display(total_rainfall)\n"
   ]
  },
  {
   "cell_type": "markdown",
   "metadata": {},
   "source": [
    "Above, we can see there's no column header for total_rainfall. I want to add the column header, and based on Copilot, I can use reset_index()"
   ]
  },
  {
   "cell_type": "code",
   "execution_count": 266,
   "metadata": {},
   "outputs": [
    {
     "data": {
      "text/html": [
       "<div>\n",
       "<style scoped>\n",
       "    .dataframe tbody tr th:only-of-type {\n",
       "        vertical-align: middle;\n",
       "    }\n",
       "\n",
       "    .dataframe tbody tr th {\n",
       "        vertical-align: top;\n",
       "    }\n",
       "\n",
       "    .dataframe thead th {\n",
       "        text-align: right;\n",
       "    }\n",
       "</style>\n",
       "<table border=\"1\" class=\"dataframe\">\n",
       "  <thead>\n",
       "    <tr style=\"text-align: right;\">\n",
       "      <th></th>\n",
       "      <th>City</th>\n",
       "      <th>Total Rainfall</th>\n",
       "    </tr>\n",
       "  </thead>\n",
       "  <tbody>\n",
       "    <tr>\n",
       "      <th>0</th>\n",
       "      <td>Buenos Aires</td>\n",
       "      <td>916.3</td>\n",
       "    </tr>\n",
       "    <tr>\n",
       "      <th>1</th>\n",
       "      <td>Cairo</td>\n",
       "      <td>28.3</td>\n",
       "    </tr>\n",
       "    <tr>\n",
       "      <th>2</th>\n",
       "      <td>London</td>\n",
       "      <td>780.7</td>\n",
       "    </tr>\n",
       "    <tr>\n",
       "      <th>3</th>\n",
       "      <td>Mumbai</td>\n",
       "      <td>2048.1</td>\n",
       "    </tr>\n",
       "    <tr>\n",
       "      <th>4</th>\n",
       "      <td>Singapore</td>\n",
       "      <td>2364.7</td>\n",
       "    </tr>\n",
       "  </tbody>\n",
       "</table>\n",
       "</div>"
      ],
      "text/plain": [
       "           City  Total Rainfall\n",
       "0  Buenos Aires           916.3\n",
       "1         Cairo            28.3\n",
       "2        London           780.7\n",
       "3        Mumbai          2048.1\n",
       "4     Singapore          2364.7"
      ]
     },
     "metadata": {},
     "output_type": "display_data"
    }
   ],
   "source": [
    "# Group by 'city' and sum the 'precipitation' for each group\n",
    "total_rainfall = df.groupby('city')['precipitation_sum'].sum().reset_index()\n",
    "\n",
    "# Rename the columns for clarity where first column is the city name, second column is the sum of precipitation\n",
    "total_rainfall.columns = ['City', 'Total Rainfall']\n",
    "\n",
    "# Display the result\n",
    "display(total_rainfall)\n"
   ]
  },
  {
   "cell_type": "markdown",
   "metadata": {},
   "source": [
    "## 2.2 Number of Rainy Days\n",
    "\n",
    "We introduce the size() function to count the number of occurences in each group. In this case, we want to count the number of days precipitation_sum is greater than 0."
   ]
  },
  {
   "cell_type": "code",
   "execution_count": 267,
   "metadata": {},
   "outputs": [
    {
     "data": {
      "text/html": [
       "<div>\n",
       "<style scoped>\n",
       "    .dataframe tbody tr th:only-of-type {\n",
       "        vertical-align: middle;\n",
       "    }\n",
       "\n",
       "    .dataframe tbody tr th {\n",
       "        vertical-align: top;\n",
       "    }\n",
       "\n",
       "    .dataframe thead th {\n",
       "        text-align: right;\n",
       "    }\n",
       "</style>\n",
       "<table border=\"1\" class=\"dataframe\">\n",
       "  <thead>\n",
       "    <tr style=\"text-align: right;\">\n",
       "      <th></th>\n",
       "      <th>City</th>\n",
       "      <th>Rainy Days</th>\n",
       "    </tr>\n",
       "  </thead>\n",
       "  <tbody>\n",
       "    <tr>\n",
       "      <th>0</th>\n",
       "      <td>Buenos Aires</td>\n",
       "      <td>150</td>\n",
       "    </tr>\n",
       "    <tr>\n",
       "      <th>1</th>\n",
       "      <td>Cairo</td>\n",
       "      <td>29</td>\n",
       "    </tr>\n",
       "    <tr>\n",
       "      <th>2</th>\n",
       "      <td>London</td>\n",
       "      <td>228</td>\n",
       "    </tr>\n",
       "    <tr>\n",
       "      <th>3</th>\n",
       "      <td>Mumbai</td>\n",
       "      <td>157</td>\n",
       "    </tr>\n",
       "    <tr>\n",
       "      <th>4</th>\n",
       "      <td>Singapore</td>\n",
       "      <td>350</td>\n",
       "    </tr>\n",
       "  </tbody>\n",
       "</table>\n",
       "</div>"
      ],
      "text/plain": [
       "           City  Rainy Days\n",
       "0  Buenos Aires         150\n",
       "1         Cairo          29\n",
       "2        London         228\n",
       "3        Mumbai         157\n",
       "4     Singapore         350"
      ]
     },
     "metadata": {},
     "output_type": "display_data"
    }
   ],
   "source": [
    "# Filter the DataFrame to include only rows where precipitation_sum > 0\n",
    "rainy_days_df = df[df['precipitation_sum'] > 0]\n",
    "\n",
    "# Group by 'city' and count the number of days for each city\n",
    "rainy_days = rainy_days_df.groupby('city').size().reset_index()\n",
    "\n",
    "# Rename the columns for clarity\n",
    "rainy_days.columns = ['City', 'Rainy Days']\n",
    "\n",
    "# Display the result\n",
    "display(rainy_days)"
   ]
  },
  {
   "cell_type": "markdown",
   "metadata": {},
   "source": [
    "## 2.3 Average Rain Intensity\n",
    "\n",
    "Now, we can use the variable we have formulated in 3.1 and 3.2 to calculate the average rain intensity for each city."
   ]
  },
  {
   "cell_type": "code",
   "execution_count": 268,
   "metadata": {},
   "outputs": [
    {
     "data": {
      "text/html": [
       "<div>\n",
       "<style scoped>\n",
       "    .dataframe tbody tr th:only-of-type {\n",
       "        vertical-align: middle;\n",
       "    }\n",
       "\n",
       "    .dataframe tbody tr th {\n",
       "        vertical-align: top;\n",
       "    }\n",
       "\n",
       "    .dataframe thead th {\n",
       "        text-align: right;\n",
       "    }\n",
       "</style>\n",
       "<table border=\"1\" class=\"dataframe\">\n",
       "  <thead>\n",
       "    <tr style=\"text-align: right;\">\n",
       "      <th></th>\n",
       "      <th>City</th>\n",
       "      <th>Total Rainfall</th>\n",
       "      <th>Rainy Days</th>\n",
       "      <th>Average Rain Intensity</th>\n",
       "    </tr>\n",
       "  </thead>\n",
       "  <tbody>\n",
       "    <tr>\n",
       "      <th>0</th>\n",
       "      <td>Buenos Aires</td>\n",
       "      <td>916.3</td>\n",
       "      <td>150</td>\n",
       "      <td>6.108667</td>\n",
       "    </tr>\n",
       "    <tr>\n",
       "      <th>1</th>\n",
       "      <td>Cairo</td>\n",
       "      <td>28.3</td>\n",
       "      <td>29</td>\n",
       "      <td>0.975862</td>\n",
       "    </tr>\n",
       "    <tr>\n",
       "      <th>2</th>\n",
       "      <td>London</td>\n",
       "      <td>780.7</td>\n",
       "      <td>228</td>\n",
       "      <td>3.424123</td>\n",
       "    </tr>\n",
       "    <tr>\n",
       "      <th>3</th>\n",
       "      <td>Mumbai</td>\n",
       "      <td>2048.1</td>\n",
       "      <td>157</td>\n",
       "      <td>13.045223</td>\n",
       "    </tr>\n",
       "    <tr>\n",
       "      <th>4</th>\n",
       "      <td>Singapore</td>\n",
       "      <td>2364.7</td>\n",
       "      <td>350</td>\n",
       "      <td>6.756286</td>\n",
       "    </tr>\n",
       "  </tbody>\n",
       "</table>\n",
       "</div>"
      ],
      "text/plain": [
       "           City  Total Rainfall  Rainy Days  Average Rain Intensity\n",
       "0  Buenos Aires           916.3         150                6.108667\n",
       "1         Cairo            28.3          29                0.975862\n",
       "2        London           780.7         228                3.424123\n",
       "3        Mumbai          2048.1         157               13.045223\n",
       "4     Singapore          2364.7         350                6.756286"
      ]
     },
     "metadata": {},
     "output_type": "display_data"
    }
   ],
   "source": [
    "# Merge the total_rainfall and rainy_days DataFrames on 'City'\n",
    "rain_data = pd.merge(total_rainfall, rainy_days, on='City')\n",
    "\n",
    "# Calculate the average rain intensity\n",
    "rain_data['average_rain_intensity'] = rain_data['Total Rainfall'] / rain_data['Rainy Days']\n",
    "\n",
    "# Rename the columns for clarity\n",
    "rain_data.columns = ['City', 'Total Rainfall', 'Rainy Days', 'Average Rain Intensity']\n",
    "\n",
    "# Display the result\n",
    "display(rain_data)\n"
   ]
  },
  {
   "cell_type": "markdown",
   "metadata": {},
   "source": [
    "Neat! Now we have 3/4 metrics represented in the table."
   ]
  },
  {
   "cell_type": "markdown",
   "metadata": {},
   "source": [
    "## 2.4 Average Rain Duration\n",
    "\n",
    "We have to first calculate the total rain duration for each city. Then, calculate the average rain duration per rainy day for each city."
   ]
  },
  {
   "cell_type": "code",
   "execution_count": 269,
   "metadata": {},
   "outputs": [
    {
     "data": {
      "text/html": [
       "<div>\n",
       "<style scoped>\n",
       "    .dataframe tbody tr th:only-of-type {\n",
       "        vertical-align: middle;\n",
       "    }\n",
       "\n",
       "    .dataframe tbody tr th {\n",
       "        vertical-align: top;\n",
       "    }\n",
       "\n",
       "    .dataframe thead th {\n",
       "        text-align: right;\n",
       "    }\n",
       "</style>\n",
       "<table border=\"1\" class=\"dataframe\">\n",
       "  <thead>\n",
       "    <tr style=\"text-align: right;\">\n",
       "      <th></th>\n",
       "      <th>City</th>\n",
       "      <th>Average Rain Duration</th>\n",
       "    </tr>\n",
       "  </thead>\n",
       "  <tbody>\n",
       "    <tr>\n",
       "      <th>0</th>\n",
       "      <td>Buenos Aires</td>\n",
       "      <td>5.700000</td>\n",
       "    </tr>\n",
       "    <tr>\n",
       "      <th>1</th>\n",
       "      <td>Cairo</td>\n",
       "      <td>2.827586</td>\n",
       "    </tr>\n",
       "    <tr>\n",
       "      <th>2</th>\n",
       "      <td>London</td>\n",
       "      <td>6.741228</td>\n",
       "    </tr>\n",
       "    <tr>\n",
       "      <th>3</th>\n",
       "      <td>Mumbai</td>\n",
       "      <td>14.050955</td>\n",
       "    </tr>\n",
       "    <tr>\n",
       "      <th>4</th>\n",
       "      <td>Singapore</td>\n",
       "      <td>8.522857</td>\n",
       "    </tr>\n",
       "  </tbody>\n",
       "</table>\n",
       "</div>"
      ],
      "text/plain": [
       "           City  Average Rain Duration\n",
       "0  Buenos Aires               5.700000\n",
       "1         Cairo               2.827586\n",
       "2        London               6.741228\n",
       "3        Mumbai              14.050955\n",
       "4     Singapore               8.522857"
      ]
     },
     "metadata": {},
     "output_type": "display_data"
    }
   ],
   "source": [
    "# Calculate Total Rain Duration for each city\n",
    "total_rain_duration = df.groupby('city')['precipitation_hours'].sum().reset_index()\n",
    "total_rain_duration.columns = ['City', 'Total Rain Duration']\n",
    "\n",
    "# Merge the total_rain_duration with the rain_data DataFrame\n",
    "rain_data = pd.merge(rain_data, total_rain_duration, on='City')\n",
    "\n",
    "# Calculate Average Rain Duration per Rainy Day for each city\n",
    "rain_data['Average Rain Duration'] = rain_data['Total Rain Duration'] / rain_data['Rainy Days']\n",
    "\n",
    "# Display the result\n",
    "display(rain_data[['City', 'Average Rain Duration']])"
   ]
  },
  {
   "cell_type": "markdown",
   "metadata": {},
   "source": [
    "## 2.5 Combining all metrics together\n",
    "\n",
    "Now that we have all our relevant metrics, let's put them all together in one table to help our analysis."
   ]
  },
  {
   "cell_type": "code",
   "execution_count": 270,
   "metadata": {},
   "outputs": [
    {
     "data": {
      "text/html": [
       "<div>\n",
       "<style scoped>\n",
       "    .dataframe tbody tr th:only-of-type {\n",
       "        vertical-align: middle;\n",
       "    }\n",
       "\n",
       "    .dataframe tbody tr th {\n",
       "        vertical-align: top;\n",
       "    }\n",
       "\n",
       "    .dataframe thead th {\n",
       "        text-align: right;\n",
       "    }\n",
       "</style>\n",
       "<table border=\"1\" class=\"dataframe\">\n",
       "  <thead>\n",
       "    <tr style=\"text-align: right;\">\n",
       "      <th></th>\n",
       "      <th>City</th>\n",
       "      <th>Total Rainfall</th>\n",
       "      <th>Rainy Days</th>\n",
       "      <th>Average Rain Intensity</th>\n",
       "      <th>Average Rain Duration</th>\n",
       "    </tr>\n",
       "  </thead>\n",
       "  <tbody>\n",
       "    <tr>\n",
       "      <th>0</th>\n",
       "      <td>Buenos Aires</td>\n",
       "      <td>916.3</td>\n",
       "      <td>150</td>\n",
       "      <td>6.108667</td>\n",
       "      <td>5.700000</td>\n",
       "    </tr>\n",
       "    <tr>\n",
       "      <th>1</th>\n",
       "      <td>Cairo</td>\n",
       "      <td>28.3</td>\n",
       "      <td>29</td>\n",
       "      <td>0.975862</td>\n",
       "      <td>2.827586</td>\n",
       "    </tr>\n",
       "    <tr>\n",
       "      <th>2</th>\n",
       "      <td>London</td>\n",
       "      <td>780.7</td>\n",
       "      <td>228</td>\n",
       "      <td>3.424123</td>\n",
       "      <td>6.741228</td>\n",
       "    </tr>\n",
       "    <tr>\n",
       "      <th>3</th>\n",
       "      <td>Mumbai</td>\n",
       "      <td>2048.1</td>\n",
       "      <td>157</td>\n",
       "      <td>13.045223</td>\n",
       "      <td>14.050955</td>\n",
       "    </tr>\n",
       "    <tr>\n",
       "      <th>4</th>\n",
       "      <td>Singapore</td>\n",
       "      <td>2364.7</td>\n",
       "      <td>350</td>\n",
       "      <td>6.756286</td>\n",
       "      <td>8.522857</td>\n",
       "    </tr>\n",
       "  </tbody>\n",
       "</table>\n",
       "</div>"
      ],
      "text/plain": [
       "           City  Total Rainfall  Rainy Days  Average Rain Intensity  \\\n",
       "0  Buenos Aires           916.3         150                6.108667   \n",
       "1         Cairo            28.3          29                0.975862   \n",
       "2        London           780.7         228                3.424123   \n",
       "3        Mumbai          2048.1         157               13.045223   \n",
       "4     Singapore          2364.7         350                6.756286   \n",
       "\n",
       "   Average Rain Duration  \n",
       "0               5.700000  \n",
       "1               2.827586  \n",
       "2               6.741228  \n",
       "3              14.050955  \n",
       "4               8.522857  "
      ]
     },
     "metadata": {},
     "output_type": "display_data"
    }
   ],
   "source": [
    "# Merge the total_rainfall, rainy_days, and total_rain_duration DataFrames on 'City'\n",
    "rain_data = pd.merge(total_rainfall, rainy_days, on='City')\n",
    "rain_data = pd.merge(rain_data, total_rain_duration, on='City')\n",
    "\n",
    "# Calculate the Average Rain Intensity and Average Rain Duration per Rainy Day for each city\n",
    "rain_data['Average Rain Intensity'] = rain_data['Total Rainfall'] / rain_data['Rainy Days']\n",
    "rain_data['Average Rain Duration'] = rain_data['Total Rain Duration'] / rain_data['Rainy Days']\n",
    "\n",
    "# Display the final DataFrame with the specified columns\n",
    "display(rain_data[['City', 'Total Rainfall', 'Rainy Days', 'Average Rain Intensity', 'Average Rain Duration']])\n"
   ]
  }
 ],
 "metadata": {
  "kernelspec": {
   "display_name": "base",
   "language": "python",
   "name": "python3"
  },
  "language_info": {
   "codemirror_mode": {
    "name": "ipython",
    "version": 3
   },
   "file_extension": ".py",
   "mimetype": "text/x-python",
   "name": "python",
   "nbconvert_exporter": "python",
   "pygments_lexer": "ipython3",
   "version": "3.12.4"
  }
 },
 "nbformat": 4,
 "nbformat_minor": 2
}
