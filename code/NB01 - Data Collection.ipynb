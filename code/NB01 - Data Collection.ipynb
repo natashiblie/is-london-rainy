{
 "cells": [
  {
   "cell_type": "markdown",
   "metadata": {},
   "source": [
    "# Introduction\n",
    "This notebook is for collecting and processing rainfall data required for our data analysis notebook."
   ]
  },
  {
   "cell_type": "markdown",
   "metadata": {},
   "source": [
    "# 1. Import Libraries ⚙️\n",
    "\n",
    "\n",
    "This code imports essential libraries required for data collection and analysis:"
   ]
  },
  {
   "cell_type": "code",
   "execution_count": 1,
   "metadata": {},
   "outputs": [],
   "source": [
    "import os\n",
    "import json\n",
    "\n",
    "import requests\n",
    "\n",
    "import pandas as pd\n",
    "\n",
    "from datetime import datetime"
   ]
  },
  {
   "cell_type": "markdown",
   "metadata": {},
   "source": [
    "# 2. Helpful Functions 🛠️"
   ]
  },
  {
   "cell_type": "markdown",
   "metadata": {},
   "source": [
    "The code below reads the world cities data and return the latitude and longitude of a city. You can use it to get the coordinates of the city you want to analyse."
   ]
  },
  {
   "cell_type": "code",
   "execution_count": 2,
   "metadata": {},
   "outputs": [],
   "source": [
    "def get_lat_lon(country_code, city_name):\n",
    "    \n",
    "    # Define the path to the CSV file with city data\n",
    "    filepath = '../data/world_cities.csv'\n",
    "    \n",
    "    # Load the CSV file into a DataFrame\n",
    "    world_cities = pd.read_csv(filepath)\n",
    "\n",
    "    # Filter the DataFrame to find the specific city based on country code and city name\n",
    "    city_data = world_cities[(world_cities['country'] == country_code) & \n",
    "                             (world_cities['name'] == city_name)]\n",
    "    \n",
    "    # Convert the filtered data to a list of dictionaries for easy access\n",
    "    city_data = city_data.to_dict('records')\n",
    "    \n",
    "    # Raise an error if no matching record is found\n",
    "    if len(city_data) == 0:\n",
    "        raise ValueError(f\"No records found for {city_name}, {country_code} in {filepath}\")\n",
    "\n",
    "    # Extract latitude and longitude from the first matching record\n",
    "    latitude = city_data[0]['lat']\n",
    "    longitude = city_data[0]['lng']\n",
    "\n",
    "    # Return latitude and longitude as a tuple\n",
    "    return latitude, longitude\n"
   ]
  },
  {
   "cell_type": "markdown",
   "metadata": {},
   "source": [
    "Let's test this function for Singapore, SG."
   ]
  },
  {
   "cell_type": "code",
   "execution_count": 3,
   "metadata": {},
   "outputs": [
    {
     "data": {
      "text/plain": [
       "(1.28967, 103.85007)"
      ]
     },
     "execution_count": 3,
     "metadata": {},
     "output_type": "execute_result"
    }
   ],
   "source": [
    "get_lat_lon(\"SG\", \"Singapore\")"
   ]
  },
  {
   "cell_type": "markdown",
   "metadata": {},
   "source": [
    "**I wrote a function to construct the URL for me. This way I can call it anytime inside or outside another function:**"
   ]
  },
  {
   "cell_type": "code",
   "execution_count": 4,
   "metadata": {},
   "outputs": [],
   "source": [
    "def build_url(latitude: float, longitude: float, start_date: str, end_date: str):\n",
    "    # Base URL for the historical weather API\n",
    "    base_historical_url = \"https://archive-api.open-meteo.com/v1/era5?\"\n",
    "    \n",
    "    # Add latitude and longitude parameters to the URL\n",
    "    params_lat_long = \"latitude=\" + str(latitude) + \"&longitude=\" + str(longitude)\n",
    "    \n",
    "    # Add start and end date parameters for the data range\n",
    "    params_date = \"&start_date=\" + start_date + \"&end_date=\" + end_date\n",
    "\n",
    "    # Specify data type (precipitation) and set timezone to auto for local adjustment\n",
    "    params_others = \"&daily=precipitation_sum,precipitation_hours&timezone=auto\"\n",
    "\n",
    "    # Combine all parts to form the final API URL\n",
    "    final_url = base_historical_url + params_lat_long + params_date + params_others\n",
    "\n",
    "    return final_url\n"
   ]
  },
  {
   "cell_type": "markdown",
   "metadata": {},
   "source": [
    "Let's test the function for Singapore, SG."
   ]
  },
  {
   "cell_type": "code",
   "execution_count": 5,
   "metadata": {},
   "outputs": [
    {
     "data": {
      "text/plain": [
       "'https://archive-api.open-meteo.com/v1/era5?latitude=1.28967&longitude=103.8501&start_date=2023-01-01&end_date=2023-01-02&daily=precipitation_sum,precipitation_hours&timezone=auto'"
      ]
     },
     "execution_count": 5,
     "metadata": {},
     "output_type": "execute_result"
    }
   ],
   "source": [
    "build_url(1.28967, 103.8501, \"2023-01-01\", \"2023-01-02\")"
   ]
  },
  {
   "cell_type": "markdown",
   "metadata": {},
   "source": [
    "**Compile a list of city data, including country code and city name**"
   ]
  },
  {
   "cell_type": "code",
   "execution_count": 6,
   "metadata": {},
   "outputs": [],
   "source": [
    "cities = [\n",
    "    (\"GB\", \"London\"),       \n",
    "    (\"SG\", \"Singapore\"),    \n",
    "    (\"EG\", \"Cairo\"),        \n",
    "    (\"AR\", \"Buenos Aires\"), \n",
    "    (\"IN\", \"Mumbai\")        \n",
    "]\n"
   ]
  },
  {
   "cell_type": "markdown",
   "metadata": {},
   "source": [
    "**Compile latitudes and longitudes for all cities required for our analysis using a for loop function**"
   ]
  },
  {
   "cell_type": "code",
   "execution_count": 7,
   "metadata": {},
   "outputs": [
    {
     "data": {
      "text/plain": [
       "[('GB', 'London', 51.50853, -0.12574),\n",
       " ('SG', 'Singapore', 1.28967, 103.85007),\n",
       " ('EG', 'Cairo', 30.06263, 31.24967),\n",
       " ('AR', 'Buenos Aires', -34.61315, -58.37723),\n",
       " ('IN', 'Mumbai', 19.07283, 72.88261)]"
      ]
     },
     "execution_count": 7,
     "metadata": {},
     "output_type": "execute_result"
    }
   ],
   "source": [
    "geo_data = []\n",
    "\n",
    "# Loop through each city and country code in the cities list\n",
    "for country_code, city_name in cities:\n",
    "    # Get latitude and longitude for the specified city and country\n",
    "    latitude, longitude = get_lat_lon(country_code, city_name)\n",
    "    \n",
    "    # Append the country code, city name, latitude, and longitude as a tuple to geo_data\n",
    "    geo_data.append((country_code, city_name, latitude, longitude))\n",
    "\n",
    "# Display the collected geographic data\n",
    "geo_data\n"
   ]
  },
  {
   "cell_type": "markdown",
   "metadata": {},
   "source": [
    "## 2. Historical Rainfall 🌧️\n",
    "\n",
    "I want to create a function that gives me the historical rainfall for each country using the functions we have defined earlier which are:\n",
    "\n",
    "1. get_lat_long --> To obtain the latitude and longitude of the country\n",
    "2. build_url --> Obtain the URL to obtain the variables required for each country"
   ]
  },
  {
   "cell_type": "code",
   "execution_count": 16,
   "metadata": {},
   "outputs": [],
   "source": [
    "def get_historical_data(country_code, city_name, start_date=\"2023-01-01\", end_date=\"2023-12-31\"):\n",
    "    \"\"\"\n",
    "    Retrieves historical weather data for a specific city using default dates if none are provided.\n",
    "    \n",
    "    Parameters:\n",
    "        country_code (str): The country code of the city.\n",
    "        city_name (str): The name of the city.\n",
    "        start_date (str): Start date in \"YYYY-MM-DD\" format. Defaults to Jan 1, 2023.\n",
    "        end_date (str): End date in \"YYYY-MM-DD\" format. Defaults to Dec 31, 2023.\n",
    "    \n",
    "    Returns:\n",
    "        dict: Dictionary of historical rainfall data.\n",
    "    \"\"\"\n",
    "    \n",
    "    # Get latitude and longitude for the specified city and country\n",
    "    latitude, longitude = get_lat_lon(country_code, city_name)\n",
    "    \n",
    "    # Build the API URL using the latitude, longitude, and date range\n",
    "    url = build_url(latitude, longitude, start_date, end_date)\n",
    "    \n",
    "    # Make an API request to retrieve historical weather data\n",
    "    response = requests.get(url)\n",
    "    \n",
    "    # Parse the JSON response and return daily data\n",
    "    data = response.json()\n",
    "    \n",
    "    return data.get(\"daily\", {})\n"
   ]
  },
  {
   "cell_type": "markdown",
   "metadata": {},
   "source": [
    "Let's test this function for Singapore, SG for 2 specific dates."
   ]
  },
  {
   "cell_type": "code",
   "execution_count": 17,
   "metadata": {},
   "outputs": [
    {
     "data": {
      "text/plain": [
       "{'time': ['2023-01-01', '2023-01-02'],\n",
       " 'precipitation_sum': [0.0, 3.7],\n",
       " 'precipitation_hours': [0.0, 5.0]}"
      ]
     },
     "execution_count": 17,
     "metadata": {},
     "output_type": "execute_result"
    }
   ],
   "source": [
    "get_historical_data(\"SG\", \"Singapore\", \"2023-01-01\", \"2023-01-02\")"
   ]
  },
  {
   "cell_type": "markdown",
   "metadata": {},
   "source": [
    "I've created a dictionary to collect and store historical rainfall data for each city."
   ]
  },
  {
   "cell_type": "code",
   "execution_count": 10,
   "metadata": {},
   "outputs": [],
   "source": [
    "# Create an empty dictionary to store historical rainfall data for each city\n",
    "historical_rainfall = {}\n",
    "\n",
    "# Loop through each city and country code in geo_data\n",
    "for country_code, city_name, _, _ in geo_data:\n",
    "    # Retrieve historical rainfall data for the city (using default dates)\n",
    "    rainfall = get_historical_data(country_code, city_name)\n",
    "    \n",
    "    # Store the rainfall data in a dictionary with the city name as the key\n",
    "    historical_rainfall[city_name] = rainfall\n"
   ]
  },
  {
   "cell_type": "code",
   "execution_count": 11,
   "metadata": {},
   "outputs": [
    {
     "name": "stdout",
     "output_type": "stream",
     "text": [
      "[('GB', 'London', 51.50853, -0.12574), ('SG', 'Singapore', 1.28967, 103.85007), ('EG', 'Cairo', 30.06263, 31.24967), ('AR', 'Buenos Aires', -34.61315, -58.37723), ('IN', 'Mumbai', 19.07283, 72.88261)]\n"
     ]
    }
   ],
   "source": [
    "print(geo_data)"
   ]
  },
  {
   "cell_type": "markdown",
   "metadata": {},
   "source": [
    "A few checks to confirm it worked:"
   ]
  },
  {
   "cell_type": "code",
   "execution_count": 18,
   "metadata": {},
   "outputs": [
    {
     "data": {
      "text/plain": [
       "dict_keys(['London', 'Singapore', 'Cairo', 'Buenos Aires', 'Mumbai'])"
      ]
     },
     "execution_count": 18,
     "metadata": {},
     "output_type": "execute_result"
    }
   ],
   "source": [
    "historical_rainfall.keys() # Check for the keys in the historical_rainfall dictionary"
   ]
  },
  {
   "cell_type": "code",
   "execution_count": 20,
   "metadata": {},
   "outputs": [
    {
     "name": "stdout",
     "output_type": "stream",
     "text": [
      "The value for key London     is a list of 3 elements\n",
      "The value for key Singapore  is a list of 3 elements\n",
      "The value for key Cairo      is a list of 3 elements\n",
      "The value for key Buenos Aires is a list of 3 elements\n",
      "The value for key Mumbai     is a list of 3 elements\n"
     ]
    }
   ],
   "source": [
    "# Loop through each city and its rainfall data in the historical_rainfall dictionary\n",
    "for city, rainfall in historical_rainfall.items():\n",
    "    # Print the city name and the number of elements in the rainfall data list\n",
    "    print(f\"The value for key {city:10s} is a list of {len(rainfall)} elements\")\n"
   ]
  },
  {
   "cell_type": "markdown",
   "metadata": {},
   "source": [
    "**This code saves the `historical_rainfall` data to a JSON file:**"
   ]
  },
  {
   "cell_type": "code",
   "execution_count": 14,
   "metadata": {},
   "outputs": [],
   "source": [
    "with open('../data/multicity_historical.json', 'w') as file:\n",
    "    json.dump(historical_rainfall, file)"
   ]
  }
 ],
 "metadata": {
  "kernelspec": {
   "display_name": "base",
   "language": "python",
   "name": "python3"
  },
  "language_info": {
   "codemirror_mode": {
    "name": "ipython",
    "version": 3
   },
   "file_extension": ".py",
   "mimetype": "text/x-python",
   "name": "python",
   "nbconvert_exporter": "python",
   "pygments_lexer": "ipython3",
   "version": "3.11.5"
  }
 },
 "nbformat": 4,
 "nbformat_minor": 2
}
