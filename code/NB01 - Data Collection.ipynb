{
 "cells": [
  {
   "cell_type": "markdown",
   "metadata": {},
   "source": [
    "# Introduction\n",
    "This notebook is for collecting and processing rainfall data required for our data analysis notebook.\n",
    "\n",
    "To keep the notebook focused on data analysis, key functions used for data processing have been moved to a separate Python file, `data_collection_utils.py`. \n",
    "\n",
    "By organising the functions in `data_collection_utils.py`, we maintain a clean and modular notebook. These functions are imported at the start of the notebook under section **1. Import Libraries** for easy use:"
   ]
  },
  {
   "cell_type": "markdown",
   "metadata": {},
   "source": [
    "## 1. Import Libraries ⚙️\n",
    "\n",
    "\n",
    "This code imports essential libraries required for data collection and analysis:"
   ]
  },
  {
   "cell_type": "code",
   "execution_count": 1,
   "metadata": {},
   "outputs": [],
   "source": [
    "import os\n",
    "import json\n",
    "\n",
    "import requests\n",
    "\n",
    "import pandas as pd\n",
    "\n",
    "from datetime import datetime\n",
    "\n",
    "import sys\n",
    "sys.path.append('../scripts')  # Add the 'scripts' folder to the Python path\n",
    "\n",
    "from data_collection_utils import get_lat_lon, build_url, get_historical_data\n",
    "\n"
   ]
  },
  {
   "cell_type": "markdown",
   "metadata": {},
   "source": [
    "## 2. Function Imports and Testing\n",
    "\n",
    "In this section, we import and test key functions from the `data_collection_utils.py` file to ensure they work correctly. These functions include:\n",
    "- `get_lat_lon`: Retrieves latitude and longitude for a given city.\n",
    "- `build_url`: Constructs the API URL with the necessary parameters.\n",
    "- `get_historical_data`: Fetches historical weather data for the specified city and date range.\n",
    "\n",
    "Below, we test `get_lat_lon` using a sample city to verify it’s working as expected.\n"
   ]
  },
  {
   "cell_type": "code",
   "execution_count": 2,
   "metadata": {},
   "outputs": [
    {
     "data": {
      "text/plain": [
       "(1.28967, 103.85007)"
      ]
     },
     "execution_count": 2,
     "metadata": {},
     "output_type": "execute_result"
    }
   ],
   "source": [
    "get_lat_lon(\"SG\", \"Singapore\")"
   ]
  },
  {
   "cell_type": "markdown",
   "metadata": {},
   "source": [
    "Similarly, we test build_url using a sample city to verify it's working as expected."
   ]
  },
  {
   "cell_type": "code",
   "execution_count": 3,
   "metadata": {},
   "outputs": [
    {
     "data": {
      "text/plain": [
       "'https://archive-api.open-meteo.com/v1/era5?latitude=1.28967&longitude=103.8501&start_date=2023-01-01&end_date=2023-01-02&daily=precipitation_sum,precipitation_hours&timezone=auto'"
      ]
     },
     "execution_count": 3,
     "metadata": {},
     "output_type": "execute_result"
    }
   ],
   "source": [
    "build_url(1.28967, 103.8501, \"2023-01-01\", \"2023-01-02\")"
   ]
  },
  {
   "cell_type": "markdown",
   "metadata": {},
   "source": [
    "**Compile a list of city data, including country code and city name**"
   ]
  },
  {
   "cell_type": "code",
   "execution_count": 4,
   "metadata": {},
   "outputs": [],
   "source": [
    "cities = [\n",
    "    (\"GB\", \"London\"),       \n",
    "    (\"SG\", \"Singapore\"),    \n",
    "    (\"EG\", \"Cairo\"),        \n",
    "    (\"AR\", \"Buenos Aires\"), \n",
    "    (\"IN\", \"Mumbai\")        \n",
    "]\n"
   ]
  },
  {
   "cell_type": "markdown",
   "metadata": {},
   "source": [
    "**Compile latitudes and longitudes for all cities required for our analysis using a for loop function**"
   ]
  },
  {
   "cell_type": "code",
   "execution_count": 5,
   "metadata": {},
   "outputs": [
    {
     "data": {
      "text/plain": [
       "[('GB', 'London', 51.50853, -0.12574),\n",
       " ('SG', 'Singapore', 1.28967, 103.85007),\n",
       " ('EG', 'Cairo', 30.06263, 31.24967),\n",
       " ('AR', 'Buenos Aires', -34.61315, -58.37723),\n",
       " ('IN', 'Mumbai', 19.07283, 72.88261)]"
      ]
     },
     "execution_count": 5,
     "metadata": {},
     "output_type": "execute_result"
    }
   ],
   "source": [
    "geo_data = []\n",
    "\n",
    "# Loop through each city and country code in the cities list\n",
    "for country_code, city_name in cities:\n",
    "    # Get latitude and longitude for the specified city and country\n",
    "    latitude, longitude = get_lat_lon(country_code, city_name)\n",
    "    \n",
    "    # Append the country code, city name, latitude, and longitude as a tuple to geo_data\n",
    "    geo_data.append((country_code, city_name, latitude, longitude))\n",
    "\n",
    "# Display the collected geographic data\n",
    "geo_data\n"
   ]
  },
  {
   "cell_type": "markdown",
   "metadata": {},
   "source": [
    "## 3. Historical Rainfall 🌧️\n",
    "\n",
    "I have already created a function stored in `data_collection_utils.py` so let's test it as well."
   ]
  },
  {
   "cell_type": "code",
   "execution_count": 6,
   "metadata": {},
   "outputs": [
    {
     "data": {
      "text/plain": [
       "{'time': ['2023-01-01', '2023-01-02'],\n",
       " 'precipitation_sum': [0.0, 3.7],\n",
       " 'precipitation_hours': [0.0, 5.0]}"
      ]
     },
     "execution_count": 6,
     "metadata": {},
     "output_type": "execute_result"
    }
   ],
   "source": [
    "get_historical_data(\"SG\", \"Singapore\", \"2023-01-01\", \"2023-01-02\")"
   ]
  },
  {
   "cell_type": "markdown",
   "metadata": {},
   "source": [
    "I've created a dictionary to collect and store historical rainfall data for each city."
   ]
  },
  {
   "cell_type": "code",
   "execution_count": 7,
   "metadata": {},
   "outputs": [],
   "source": [
    "# Create an empty dictionary to store historical rainfall data for each city\n",
    "historical_rainfall = {}\n",
    "\n",
    "# Loop through each city and country code in geo_data\n",
    "for country_code, city_name, _, _ in geo_data:\n",
    "    # Retrieve historical rainfall data for the city (using default dates)\n",
    "    rainfall = get_historical_data(country_code, city_name)\n",
    "    \n",
    "    # Store the rainfall data in a dictionary with the city name as the key\n",
    "    historical_rainfall[city_name] = rainfall\n"
   ]
  },
  {
   "cell_type": "code",
   "execution_count": 8,
   "metadata": {},
   "outputs": [
    {
     "name": "stdout",
     "output_type": "stream",
     "text": [
      "[('GB', 'London', 51.50853, -0.12574), ('SG', 'Singapore', 1.28967, 103.85007), ('EG', 'Cairo', 30.06263, 31.24967), ('AR', 'Buenos Aires', -34.61315, -58.37723), ('IN', 'Mumbai', 19.07283, 72.88261)]\n"
     ]
    }
   ],
   "source": [
    "print(geo_data)"
   ]
  },
  {
   "cell_type": "markdown",
   "metadata": {},
   "source": [
    "A few checks to confirm it worked:"
   ]
  },
  {
   "cell_type": "code",
   "execution_count": 9,
   "metadata": {},
   "outputs": [
    {
     "data": {
      "text/plain": [
       "dict_keys(['London', 'Singapore', 'Cairo', 'Buenos Aires', 'Mumbai'])"
      ]
     },
     "execution_count": 9,
     "metadata": {},
     "output_type": "execute_result"
    }
   ],
   "source": [
    "historical_rainfall.keys() # Check for the keys in the historical_rainfall dictionary"
   ]
  },
  {
   "cell_type": "code",
   "execution_count": 10,
   "metadata": {},
   "outputs": [
    {
     "name": "stdout",
     "output_type": "stream",
     "text": [
      "The value for key London     is a list of 3 elements\n",
      "The value for key Singapore  is a list of 3 elements\n",
      "The value for key Cairo      is a list of 3 elements\n",
      "The value for key Buenos Aires is a list of 3 elements\n",
      "The value for key Mumbai     is a list of 3 elements\n"
     ]
    }
   ],
   "source": [
    "# Loop through each city and its rainfall data in the historical_rainfall dictionary\n",
    "for city, rainfall in historical_rainfall.items():\n",
    "    # Print the city name and the number of elements in the rainfall data list\n",
    "    print(f\"The value for key {city:10s} is a list of {len(rainfall)} elements\")\n"
   ]
  },
  {
   "cell_type": "markdown",
   "metadata": {},
   "source": [
    "**This code saves the `historical_rainfall` data to a JSON file:**"
   ]
  },
  {
   "cell_type": "code",
   "execution_count": 11,
   "metadata": {},
   "outputs": [],
   "source": [
    "with open('../data/multicity_historical.json', 'w') as file:\n",
    "    json.dump(historical_rainfall, file)"
   ]
  }
 ],
 "metadata": {
  "kernelspec": {
   "display_name": "base",
   "language": "python",
   "name": "python3"
  },
  "language_info": {
   "codemirror_mode": {
    "name": "ipython",
    "version": 3
   },
   "file_extension": ".py",
   "mimetype": "text/x-python",
   "name": "python",
   "nbconvert_exporter": "python",
   "pygments_lexer": "ipython3",
   "version": "3.11.5"
  }
 },
 "nbformat": 4,
 "nbformat_minor": 2
}
