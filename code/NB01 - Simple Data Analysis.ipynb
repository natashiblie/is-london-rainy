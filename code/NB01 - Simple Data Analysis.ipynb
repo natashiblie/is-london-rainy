{
 "cells": [
  {
   "cell_type": "markdown",
   "metadata": {},
   "source": [
    "# Introduction\n",
    "\n",
    "This notebook analyses historical rainfall data for various cities to determine if London, UK, is as rainy as commonly portrayed. The data for this analysis should be collected beforehand using the `data_collection_script.py` script, which gathers historical rainfall data from the Open-Meteo API and saves it in JSON format.\n",
    "\n",
    "In this notebook, we will:\n",
    "1. Load the historical rainfall data.\n",
    "2. Process and clean the data.\n",
    "3. Visualise metrics such as the number of rainy days, total rainfall, and average rain intensity across the selected cities.\n"
   ]
  },
  {
   "cell_type": "markdown",
   "metadata": {},
   "source": [
    "# 1. Data Collection Prerequisite\n",
    "\n",
    "Before running this notebook, ensure you have collected data for each city of interest as explained in the README file 'How to Set Up and Run the Project.'\n",
    "\n",
    "For my project, I have chosen to focus on the following 5 cities.\n",
    "\n",
    "1. **London, UK** – The main city of interest, often portrayed as rainy.\n",
    "2. **Singapore** – Known for its tropical climate with high annual rainfall.\n",
    "3. **Cairo, Egypt** – Represents a dry climate with very low annual rainfall.\n",
    "4. **Buenos Aires, Argentina** – A moderate climate with regular seasonal rainfall.\n",
    "5. **Mumbai, India** – Known for very high rainfall, particularly during the monsoon season.\n",
    "\n",
    "These cities offer a range of climates, from dry (Cairo) to tropical (Singapore, Mumbai) and moderate (Buenos Aires), providing a balanced comparison to assess if London's raininess is as prominent as often portrayed.\n",
    "\n",
    "\n",
    "Run the following commands from the project root directory:\n",
    "\n",
    "**1. London, UK**:\n",
    "```bash\n",
    "python scripts/data_collection_script.py GB London --start_date 2023-01-01 --end_date 2023-12-31 --output_file data/london_2023.json\n",
    "```\n",
    "\n",
    "**2. Singapore**:\n",
    "```bash\n",
    "python scripts/data_collection_script.py SG Singapore --start_date 2023-01-01 --end_date 2023-12-31 --output_file data/singapore_2023.json\n",
    "```\n",
    "\n",
    "**3. Cairo, Egypt**:\n",
    "```bash\n",
    "python scripts/data_collection_script.py EG Cairo --start_date 2023-01-01 --end_date 2023-12-31 --output_file data/cairo_2023.json\n",
    "```\n",
    "\n",
    "**4. Buenos Aires, Argentina**:\n",
    "```bash\n",
    "python scripts/data_collection_script.py AR 'Buenos Aires' --start_date 2023-01-01 --end_date 2023-12-31 --output_file data/buenos_aires_2023.json\n",
    "```\n",
    "\n",
    "**5. Mumbai, India**:\n",
    "```bash\n",
    "python scripts/data_collection_script.py IN Mumbai --start_date 2023-01-01 --end_date 2023-12-31 --output_file data/mumbai_2023.json\n",
    "```\n",
    "After running these commands, the data for each city will be saved as JSON files in the data folder. Proceed with the cells below to load and analyse the rainfall data.\n"
   ]
  },
  {
   "cell_type": "markdown",
   "metadata": {},
   "source": [
    "# 2. Import Libraries ⚙️\n",
    "\n",
    "\n",
    "This code imports essential libraries required for data collection and analysis:"
   ]
  },
  {
   "cell_type": "code",
   "execution_count": null,
   "metadata": {},
   "outputs": [],
   "source": [
    "import json\n",
    "\n",
    "import pandas as pd\n",
    "\n",
    "from lets_plot import *\n",
    "LetsPlot.setup_html()\n",
    "\n",
    "from datetime import datetime"
   ]
  },
  {
   "cell_type": "markdown",
   "metadata": {},
   "source": [
    "# 3. Load the JSON data 📥\n",
    "\n",
    "In this section, we load the historical rainfall data for each city that has been collected and saved in JSON format. Each JSON file corresponds to a city's data, which we will then combine into a single DataFrame for analysis.\n"
   ]
  },
  {
   "cell_type": "code",
   "execution_count": null,
   "metadata": {},
   "outputs": [],
   "source": [
    "# Specify the file paths for each city's data\n",
    "data_files = {\n",
    "    \"London\": \"../data/london_2023.json\",\n",
    "    \"Singapore\": \"../data/singapore_2023.json\",\n",
    "    \"Cairo\": \"../data/cairo_2023.json\",\n",
    "    \"Buenos Aires\": \"../data/buenos_aires_2023.json\",\n",
    "    \"Mumbai\": \"../data/mumbai_2023.json\"\n",
    "}"
   ]
  },
  {
   "cell_type": "markdown",
   "metadata": {},
   "source": [
    "Let's make an empty dictionary to hold dataframes for each city."
   ]
  },
  {
   "cell_type": "code",
   "execution_count": null,
   "metadata": {},
   "outputs": [],
   "source": [
    "city_dfs = []"
   ]
  },
  {
   "cell_type": "markdown",
   "metadata": {},
   "source": [
    "Since we have 5 cities, we can use the loop function to structure it into dataframes."
   ]
  },
  {
   "cell_type": "code",
   "execution_count": null,
   "metadata": {},
   "outputs": [],
   "source": [
    "# Load each city's data from its JSON file and add it to the list\n",
    "for city, file_path in data_files.items():\n",
    "    with open(file_path, 'r') as file:\n",
    "        data = json.load(file)\n",
    "        city_df = pd.DataFrame(data)\n",
    "        city_df['city'] = city  # Label each row with the city's name\n",
    "        city_dfs.append(city_df)"
   ]
  },
  {
   "cell_type": "markdown",
   "metadata": {},
   "source": [
    "Let's concatenate all the city dataframes into a single dataframe."
   ]
  },
  {
   "cell_type": "code",
   "execution_count": null,
   "metadata": {},
   "outputs": [],
   "source": [
    "df = pd.concat(city_dfs, ignore_index=True)"
   ]
  },
  {
   "cell_type": "markdown",
   "metadata": {},
   "source": [
    "Display the first few rows to check the structure."
   ]
  },
  {
   "cell_type": "code",
   "execution_count": null,
   "metadata": {},
   "outputs": [],
   "source": [
    "display(df.head(5))"
   ]
  },
  {
   "cell_type": "markdown",
   "metadata": {},
   "source": [
    "Display the last few rows to check the structure."
   ]
  },
  {
   "cell_type": "code",
   "execution_count": null,
   "metadata": {},
   "outputs": [],
   "source": [
    "display(df.tail(5))"
   ]
  },
  {
   "cell_type": "markdown",
   "metadata": {},
   "source": [
    "I also want to check that there should be a total of 1825 entries (365 days x 5 cities) so there is no missing data."
   ]
  },
  {
   "cell_type": "code",
   "execution_count": null,
   "metadata": {},
   "outputs": [],
   "source": [
    "entries = len(df)\n",
    "print(entries)"
   ]
  },
  {
   "cell_type": "markdown",
   "metadata": {},
   "source": [
    "# 2. Calculate Key Metrics for Raininess Analysis 🧮\n",
    "\n",
    "Now that we have obtained the relevant data and sorted it into organised tables, we can calculate the following required metrics. \n",
    "\n",
    "We will be using groupby() function to obtain the data from the corresponding columns required.\n",
    "\n",
    "- Number of Rainy Days: Days with precipitation_sum > 0\n",
    "\n",
    "- Average Rain Intensity: Total Rainfall / Number of Rainy Days\n",
    "\n",
    "\n"
   ]
  },
  {
   "cell_type": "markdown",
   "metadata": {},
   "source": [
    "## 2.1 Number of Rainy Days\n",
    "\n",
    "We introduce the size() function to count the number of occurences in each group. In this case, we want to count the number of days precipitation_sum is greater than 0.\n",
    "\n",
    "This metric will give us a sense of the **frequency** and helps put London’s raininess in perspective compared to other cities."
   ]
  },
  {
   "cell_type": "code",
   "execution_count": null,
   "metadata": {},
   "outputs": [],
   "source": [
    "# Filter the DataFrame to include only rows where precipitation_sum > 0\n",
    "rainy_days_df = df[df['precipitation_sum'] > 0]\n",
    "\n",
    "# Group by 'city' and count the number of days for each city\n",
    "rainy_days = rainy_days_df.groupby('city').size().reset_index()\n",
    "\n",
    "# Rename the columns for clarity\n",
    "rainy_days.columns = ['City', 'Rainy Days']\n",
    "\n",
    "# Display the result\n",
    "display(rainy_days)"
   ]
  },
  {
   "cell_type": "markdown",
   "metadata": {},
   "source": [
    "## 2.2 Average Rain Intensity\n",
    "\n",
    "Now, we can use the variable we have formulated in 3.1 and 3.2 to calculate the average rain intensity for each city.\n",
    "\n",
    "This metric will give us a sense of the **lightiness/heaviness** of the rain in London as compared to other cities."
   ]
  },
  {
   "cell_type": "code",
   "execution_count": null,
   "metadata": {},
   "outputs": [],
   "source": [
    "# Group by 'City' and calculate total rainfall and rainy days\n",
    "total_rainfall = df.groupby('city')['precipitation_sum'].sum().reset_index()\n",
    "rainy_days = df[df['precipitation_sum'] > 0].groupby('city').size().reset_index(name='Rainy Days')\n",
    "\n",
    "# Merge the total_rainfall and rainy_days DataFrames on 'City'\n",
    "rain_data = pd.merge(total_rainfall, rainy_days, on='city')\n",
    "\n",
    "# Calculate the average rain intensity (Total Rainfall / Rainy Days)\n",
    "rain_data['Average Rain Intensity (mm/day)'] = rain_data['precipitation_sum'] / rain_data['Rainy Days']\n",
    "\n",
    "# Rename the columns for clarity\n",
    "rain_data.columns = ['City', 'Total Rainfall (mm)', 'Rainy Days', 'Average Rain Intensity (mm/day)']\n",
    "\n",
    "# Select only the columns to display\n",
    "rain_data = rain_data[['City', 'Average Rain Intensity (mm/day)']]\n",
    "\n",
    "# Display the result\n",
    "display(rain_data)"
   ]
  },
  {
   "cell_type": "markdown",
   "metadata": {},
   "source": [
    "# 3. Visualisations 📊"
   ]
  },
  {
   "cell_type": "markdown",
   "metadata": {},
   "source": [
    "## 3.1 Number of Rainy Days (Bar Chart)\n",
    "\n",
    "This metric shows the total number of days with rainfall throughout the year in each city.\n",
    " \n",
    "**Rationale: A higher number of rainy days can contribute to the perception of a 'rainy' city, even if the rain is light.**\n",
    "\n"
   ]
  },
  {
   "cell_type": "code",
   "execution_count": null,
   "metadata": {},
   "outputs": [],
   "source": [
    "rainy_days_data = (\n",
    "    rain_data[['City', 'Rainy Days']]\n",
    "    .assign(City=lambda df: df['City'].astype('category'))  # Ensure 'City' is treated as a category\n",
    "    .sort_values(by='Rainy Days', ascending=True)  # Sort by 'Rainy Days' in ascending order\n",
    ")\n",
    "\n",
    "plot = (\n",
    "    ggplot(rainy_days_data, aes(x='City', y='Rainy Days', fill='Rainy Days')) + \n",
    "    geom_bar(stat='identity', show_legend=False) +  # Create a bar chart without a legend\n",
    "    geom_text(aes(label='Rainy Days'), position=position_nudge(y=5.5), color='black', size=10) +  # Add labels on bars\n",
    "    scale_fill_manual(values=['#92C5F9', '#4394E5', '#0066CC', '#004D99', '#003366']) +  # Custom color gradient\n",
    "    ggtitle('Figure 1: Singapore Had More Rainy Days Than London', \n",
    "            subtitle='London experienced 35% fewer rainy days compared to Singapore.') +  # Add title and subtitle\n",
    "    theme(\n",
    "        axis_title_x=element_text(size=20),  # Set x-axis title size\n",
    "        axis_title_y=element_text(size=20),  # Set y-axis title size\n",
    "        plot_title=element_text(size=30, face=\"bold\", color='#333333'),  # Title styling\n",
    "        plot_subtitle=element_text(size=20, color=\"grey\"),  # Subtitle styling\n",
    "        axis_text_x=element_text(size=20),  # X-axis text size\n",
    "        axis_text_y=element_text(size=20),  # Y-axis text size\n",
    "        panel_grid_major_y=element_line(color=\"grey\", size=0.3, linetype=\"dotted\"),  # Dashed grid lines\n",
    "        panel_grid_major_x=element_blank(),  # Remove vertical grid lines\n",
    "        legend_position='none'  # Hide the legend\n",
    "    ) + \n",
    "    labs(x='City', y='Number of Rainy Days') +  # Label x and y axes\n",
    "    ggsize(1400, 1000)  # Set the plot size\n",
    ")\n",
    "\n",
    "# Display the plot\n",
    "plot\n"
   ]
  },
  {
   "cell_type": "markdown",
   "metadata": {},
   "source": [
    "## 3.2 Monthly Total Rainfall by City (Line Graph)\n",
    "\n",
    "This metric displays the total amount of rainfall each month, highlighting seasonal patterns. \n",
    "\n",
    "**Rationale: It helps compare the actual volume of rain London receives compared to other cities, providing context to its 'rainy' reputation.**"
   ]
  },
  {
   "cell_type": "code",
   "execution_count": null,
   "metadata": {},
   "outputs": [],
   "source": [
    "# Convert 'time' column to datetime format\n",
    "df['time'] = pd.to_datetime(df['time'])\n",
    "\n",
    "# Extract month as a period from 'time' column\n",
    "df['month'] = df['time'].dt.to_period('M')\n",
    "\n",
    "# Prepare data for monthly total rainfall by city using method chaining\n",
    "monthly_rainfall_data = (\n",
    "    df.groupby(['city', 'month'])['precipitation_sum'].sum().reset_index()\n",
    "    .assign(month=lambda df: df['month'].astype(str))  # Convert 'month' to string for plotting\n",
    ")\n",
    "\n",
    "plot = (\n",
    "    ggplot(monthly_rainfall_data, aes(x='month', y='precipitation_sum', color='city', group='city', linetype='city')) + \n",
    "    geom_line(size=2.5) +  # Thicker lines for improved visibility\n",
    "    scale_color_manual(values=['#000000', '#e7298a', '#d95f02', '#1b9e77', '#FF0000']) +  # Set distinct colours for each city\n",
    "    scale_linetype_manual(values=['solid', 'dashed', 'dotted', 'dotdash', 'twodash']) +  # Set line types for each city\n",
    "    ggtitle('Figure 2: Mumbai exhibits extreme rainfall peaks', subtitle='Steady, lower rainfall trends observed in London.') + \n",
    "    theme(\n",
    "        axis_title_x=element_text(size=20, face=\"bold\"),  # Bold x-axis title\n",
    "        axis_title_y=element_text(size=20, face=\"bold\"),  # Bold y-axis title\n",
    "        plot_title=element_text(size=30, face=\"bold\", color='#333333'),  # Bold title styling\n",
    "        plot_subtitle=element_text(size=20, color=\"gray\"),  # Subtitle styling\n",
    "        axis_text_x=element_text(size=20, hjust=1, face=\"bold\"),  # Bold x-axis text with horizontal adjustment\n",
    "        axis_text_y=element_text(size=20, face=\"bold\"),  # Bold y-axis text\n",
    "        panel_grid_major_y=element_line(color=\"lightgray\", size=0.5, linetype=\"dotted\"),  # Dashed y-axis grid lines\n",
    "        panel_grid_major_x=element_blank(),  # Remove x-axis grid lines\n",
    "        legend_position='right',  # Position legend to the right\n",
    "        legend_title=element_text(size=24),  # Larger legend title\n",
    "        legend_text=element_text(size=24)  # Larger legend text\n",
    "    ) + \n",
    "    scale_x_discrete(name='Month', labels=['Jan', 'Feb', 'Mar', 'Apr', 'May', 'Jun', 'Jul', 'Aug', 'Sep', 'Oct', 'Nov', 'Dec']) +  # Custom month labels\n",
    "    labs(x='Month', y='Total Rainfall (mm)', color='City', linetype='City') +  # Axis and legend labels\n",
    "    ggsize(1400, 800)  # Set plot size\n",
    ")\n",
    "\n",
    "# Display the plot\n",
    "plot\n"
   ]
  },
  {
   "cell_type": "markdown",
   "metadata": {},
   "source": [
    "## 3.3 Average Rain Intensity by City (Bar Graph)\n",
    "\n",
    "This metric shows the average amount of rain per rainy day, indicating the intensity of rainfall. \n",
    "\n",
    "**Rationale: A lower intensity suggests lighter rain, whereas higher intensity indicates heavier downpours on rainy days.**"
   ]
  },
  {
   "cell_type": "code",
   "execution_count": null,
   "metadata": {},
   "outputs": [],
   "source": [
    "average_rain_intensity_data = (\n",
    "    rain_data[['City', 'Average Rain Intensity (mm/day)']]\n",
    "    .assign(City=lambda df: df['City'].astype('category'))  # Ensure 'City' is treated as a category\n",
    "    .sort_values(by='Average Rain Intensity (mm/day)', ascending=True)  # Sort by intensity in ascending order\n",
    ")\n",
    "\n",
    "plot = (\n",
    "    ggplot(average_rain_intensity_data, aes(x='City', y='Average Rain Intensity (mm/day)', fill='Average Rain Intensity (mm/day)')) + \n",
    "    geom_bar(stat='identity', show_legend=False) +  # Bar chart without legend\n",
    "    geom_text(\n",
    "        aes(label=average_rain_intensity_data['Average Rain Intensity (mm/day)'].round(2)),  # Rounded labels to 2 decimals\n",
    "        position=position_nudge(y=0.16), color='black', size=10  # Position labels closer to bars\n",
    "    ) + \n",
    "    scale_fill_manual(values=['#92C5F9', '#4394E5', '#0066CC', '#004D99', '#003366']) +  # Custom color gradient\n",
    "    ggtitle(\n",
    "        'Figure 3: Mumbai had the Highest Average Rain Intensity', \n",
    "        subtitle='London’s average rain intensity is 74% lower than Mumbai, highlighting a significant difference.'\n",
    "    ) + \n",
    "    theme(\n",
    "        axis_title_x=element_text(size=20),  # Set x-axis title size\n",
    "        axis_title_y=element_text(size=20),  # Set y-axis title size\n",
    "        plot_title=element_text(size=30, face=\"bold\", color='#333333'),  # Title styling\n",
    "        plot_subtitle=element_text(size=20, color=\"grey\"),  # Subtitle styling\n",
    "        axis_text_x=element_text(size=20),  # X-axis text size\n",
    "        axis_text_y=element_text(size=20),  # Y-axis text size\n",
    "        panel_grid_major_y=element_line(color=\"grey\", size=0.3, linetype=\"dotted\"),  # Dashed y-axis grid lines\n",
    "        panel_grid_major_x=element_blank(),  # Remove x-axis grid lines\n",
    "        legend_position='none'  # Hide legend\n",
    "    ) + \n",
    "    labs(x='City', y='Average Rain Intensity (mm/day)') +  # Axis labels\n",
    "    ggsize(1400, 1000)  # Set plot size\n",
    ")\n",
    "\n",
    "# Display the plot\n",
    "plot\n"
   ]
  },
  {
   "cell_type": "markdown",
   "metadata": {},
   "source": [
    "# 4. Conclusion 🎉\n",
    "\n",
    "### Null and Alternative Hypothesis\n",
    "- We use null and alternative hypotheses to establish a baseline (null) assumption that we can test, allowing us to determine if there is enough evidence to reject it in favour of the alternative. This approach helps us make objective conclusions based on data.\n",
    "\n",
    "- Null Hypothesis (H₀): London is rainy.\n",
    "- Alternative Hypothesis (H₁): London is not rainy."
   ]
  },
  {
   "cell_type": "markdown",
   "metadata": {},
   "source": [
    "### Figure Conclusions\n",
    "**Figure 1: Number of Rainy Days (Frequency)**\n",
    "- Conclusion: London had 228 rainy days in 2023. Although this is fewer than Singapore’s 350 rainy days, it still means that London experienced rain on 62.4% (228/365) of the days in the year. This high frequency supports the idea that London is indeed a rainy city.\n",
    "\n",
    "**Figure 2: Monthly Total Rainfall (Volume)**\n",
    "- Conclusion: London’s rainfall is steady and moderate compared to cities with extreme rain peaks, like Mumbai. This suggests that while London does not experience heavy downpours, it still receives a consistent volume of rain each month, which aligns with its rainy reputation.\n",
    "\n",
    "**Figure 3: Average Rain Intensity (Lightness/Heaviness of Rain)**\n",
    "- Conclusion: London’s rain intensity is much lighter compared to cities like Mumbai, where rain is heavier. This means that although it rains frequently in London, the rain tends to be light or drizzly rather than intense."
   ]
  },
  {
   "cell_type": "markdown",
   "metadata": {},
   "source": [
    "### Overall Conclusion and Hypothesis Decision\n",
    "Based on these figures, we can conclude:\n",
    "\n",
    "- London experiences frequent rain (as shown by its high number of rainy days), and it receives a consistent amount of rainfall each month, albeit with lighter rain intensity. This combination suggests that London is indeed a \"rainy\" city, though not the heaviest or most intense in rainfall.\n",
    "\n",
    "Decision: We fail to reject the null hypothesis (H₀), which states that London is rainy. The data supports the notion that while London may not have the heaviest rain, it does rain frequently enough to fit the rainy image associated with the city.\n",
    "\n",
    "**In summary, London's raininess may not be as extreme as often portrayed in movies, but it is still valid to consider it a rainy city based on frequency and consistency.** 😊🌧️"
   ]
  },
  {
   "cell_type": "markdown",
   "metadata": {},
   "source": []
  }
 ],
 "metadata": {
  "kernelspec": {
   "display_name": "Python 3",
   "language": "python",
   "name": "python3"
  },
  "language_info": {
   "codemirror_mode": {
    "name": "ipython",
    "version": 3
   },
   "file_extension": ".py",
   "mimetype": "text/x-python",
   "name": "python",
   "nbconvert_exporter": "python",
   "pygments_lexer": "ipython3",
   "version": "3.12.7"
  }
 },
 "nbformat": 4,
 "nbformat_minor": 2
}
