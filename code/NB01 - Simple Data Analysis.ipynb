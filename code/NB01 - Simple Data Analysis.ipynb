{
 "cells": [
  {
   "cell_type": "markdown",
   "metadata": {},
   "source": [
    "# Introduction\n",
    "\n",
    "This notebook analyses historical rainfall data for various cities to determine if London, UK, is as rainy as commonly portrayed. The data for this analysis should be collected beforehand using the `data_collection_script.py` script, which gathers historical rainfall data from the Open-Meteo API and saves it in JSON format.\n",
    "\n",
    "In this notebook, we will:\n",
    "1. Load the historical rainfall data.\n",
    "2. Process and clean the data.\n",
    "3. Visualise metrics such as the number of rainy days, total rainfall, and average rain intensity across the selected cities.\n"
   ]
  },
  {
   "cell_type": "markdown",
   "metadata": {},
   "source": [
    "# 1. Data Collection Prerequisite\n",
    "\n",
    "Before running this notebook, ensure you have collected data for each city of interest as explained in the README file 'How to Set Up and Run the Project' by executing the data collection script in the terminal. This script gathers historical rainfall data and saves it as JSON files in the `data` folder.\n",
    "\n",
    "To collect data for the five cities used in this analysis, run the following commands from the project root directory:\n",
    "\n",
    "```bash\n",
    "# London, UK\n",
    "python scripts/data_collection_script.py GB London --start_date 2023-01-01 --end_date 2023-12-31 --output_file data/london_2023.json\n",
    "\n",
    "# Singapore\n",
    "python scripts/data_collection_script.py SG Singapore --start_date 2023-01-01 --end_date 2023-12-31 --output_file data/singapore_2023.json\n",
    "\n",
    "# Cairo, Egypt\n",
    "python scripts/data_collection_script.py EG Cairo --start_date 2023-01-01 --end_date 2023-12-31 --output_file data/cairo_2023.json\n",
    "\n",
    "# Buenos Aires, Argentina\n",
    "python scripts/data_collection_script.py AR 'Buenos Aires' --start_date 2023-01-01 --end_date 2023-12-31 --output_file data/buenos_aires_2023.json\n",
    "\n",
    "# Mumbai, India\n",
    "python scripts/data_collection_script.py IN Mumbai --start_date 2023-01-01 --end_date 2023-12-31 --output_file data/mumbai_2023.json\n",
    "\n",
    "```\n",
    "After running these commands, the data for each city will be saved as JSON files in the data folder. Proceed with the cells below to load and analyse the rainfall data.\n"
   ]
  },
  {
   "cell_type": "markdown",
   "metadata": {},
   "source": [
    "# 2. Import Libraries ⚙️\n",
    "\n",
    "\n",
    "This code imports essential libraries required for data collection and analysis:"
   ]
  },
  {
   "cell_type": "code",
   "execution_count": 1,
   "metadata": {},
   "outputs": [
    {
     "data": {
      "text/html": [
       "\n",
       "            <div id=\"oU6H2j\"></div>\n",
       "            <script type=\"text/javascript\" data-lets-plot-script=\"library\">\n",
       "                if(!window.letsPlotCallQueue) {\n",
       "                    window.letsPlotCallQueue = [];\n",
       "                }; \n",
       "                window.letsPlotCall = function(f) {\n",
       "                    window.letsPlotCallQueue.push(f);\n",
       "                };\n",
       "                (function() {\n",
       "                    var script = document.createElement(\"script\");\n",
       "                    script.type = \"text/javascript\";\n",
       "                    script.src = \"https://cdn.jsdelivr.net/gh/JetBrains/lets-plot@v4.5.1/js-package/distr/lets-plot.min.js\";\n",
       "                    script.onload = function() {\n",
       "                        window.letsPlotCall = function(f) {f();};\n",
       "                        window.letsPlotCallQueue.forEach(function(f) {f();});\n",
       "                        window.letsPlotCallQueue = [];\n",
       "                        \n",
       "                    };\n",
       "                    script.onerror = function(event) {\n",
       "                        window.letsPlotCall = function(f) {};    // noop\n",
       "                        window.letsPlotCallQueue = [];\n",
       "                        var div = document.createElement(\"div\");\n",
       "                        div.style.color = 'darkred';\n",
       "                        div.textContent = 'Error loading Lets-Plot JS';\n",
       "                        document.getElementById(\"oU6H2j\").appendChild(div);\n",
       "                    };\n",
       "                    var e = document.getElementById(\"oU6H2j\");\n",
       "                    e.appendChild(script);\n",
       "                })()\n",
       "            </script>\n",
       "            "
      ]
     },
     "metadata": {},
     "output_type": "display_data"
    }
   ],
   "source": [
    "import json\n",
    "\n",
    "import pandas as pd\n",
    "\n",
    "from lets_plot import *\n",
    "LetsPlot.setup_html()\n",
    "\n",
    "from datetime import datetime"
   ]
  },
  {
   "cell_type": "markdown",
   "metadata": {},
   "source": [
    "# 3. Load the JSON data 📥\n",
    "\n",
    "In this section, we load the historical rainfall data for each city that has been collected and saved in JSON format. Each JSON file corresponds to a city's data, which we will then combine into a single DataFrame for analysis.\n"
   ]
  },
  {
   "cell_type": "code",
   "execution_count": 2,
   "metadata": {},
   "outputs": [],
   "source": [
    "# Specify the file paths for each city's data\n",
    "data_files = {\n",
    "    \"London\": \"../data/london_2023.json\",\n",
    "    \"Singapore\": \"../data/singapore_2023.json\",\n",
    "    \"Cairo\": \"../data/cairo_2023.json\",\n",
    "    \"Buenos Aires\": \"../data/buenos_aires_2023.json\",\n",
    "    \"Mumbai\": \"../data/mumbai_2023.json\"\n",
    "}"
   ]
  },
  {
   "cell_type": "markdown",
   "metadata": {},
   "source": [
    "Let's make an empty dictionary to hold dataframes for each city."
   ]
  },
  {
   "cell_type": "code",
   "execution_count": 3,
   "metadata": {},
   "outputs": [],
   "source": [
    "city_dfs = []"
   ]
  },
  {
   "cell_type": "markdown",
   "metadata": {},
   "source": [
    "Since we have 5 cities, we can use the loop function to structure it into dataframes."
   ]
  },
  {
   "cell_type": "code",
   "execution_count": 4,
   "metadata": {},
   "outputs": [
    {
     "ename": "FileNotFoundError",
     "evalue": "[Errno 2] No such file or directory: '../data/london_2023.json'",
     "output_type": "error",
     "traceback": [
      "\u001b[0;31m---------------------------------------------------------------------------\u001b[0m",
      "\u001b[0;31mFileNotFoundError\u001b[0m                         Traceback (most recent call last)",
      "Cell \u001b[0;32mIn[4], line 3\u001b[0m\n\u001b[1;32m      1\u001b[0m \u001b[38;5;66;03m# Load each city's data from its JSON file and add it to the list\u001b[39;00m\n\u001b[1;32m      2\u001b[0m \u001b[38;5;28;01mfor\u001b[39;00m city, file_path \u001b[38;5;129;01min\u001b[39;00m data_files\u001b[38;5;241m.\u001b[39mitems():\n\u001b[0;32m----> 3\u001b[0m     \u001b[38;5;28;01mwith\u001b[39;00m \u001b[38;5;28mopen\u001b[39m(file_path, \u001b[38;5;124m'\u001b[39m\u001b[38;5;124mr\u001b[39m\u001b[38;5;124m'\u001b[39m) \u001b[38;5;28;01mas\u001b[39;00m file:\n\u001b[1;32m      4\u001b[0m         data \u001b[38;5;241m=\u001b[39m json\u001b[38;5;241m.\u001b[39mload(file)\n\u001b[1;32m      5\u001b[0m         city_df \u001b[38;5;241m=\u001b[39m pd\u001b[38;5;241m.\u001b[39mDataFrame(data)\n",
      "File \u001b[0;32m~/anaconda3/lib/python3.11/site-packages/IPython/core/interactiveshell.py:286\u001b[0m, in \u001b[0;36m_modified_open\u001b[0;34m(file, *args, **kwargs)\u001b[0m\n\u001b[1;32m    279\u001b[0m \u001b[38;5;28;01mif\u001b[39;00m file \u001b[38;5;129;01min\u001b[39;00m {\u001b[38;5;241m0\u001b[39m, \u001b[38;5;241m1\u001b[39m, \u001b[38;5;241m2\u001b[39m}:\n\u001b[1;32m    280\u001b[0m     \u001b[38;5;28;01mraise\u001b[39;00m \u001b[38;5;167;01mValueError\u001b[39;00m(\n\u001b[1;32m    281\u001b[0m         \u001b[38;5;124mf\u001b[39m\u001b[38;5;124m\"\u001b[39m\u001b[38;5;124mIPython won\u001b[39m\u001b[38;5;124m'\u001b[39m\u001b[38;5;124mt let you open fd=\u001b[39m\u001b[38;5;132;01m{\u001b[39;00mfile\u001b[38;5;132;01m}\u001b[39;00m\u001b[38;5;124m by default \u001b[39m\u001b[38;5;124m\"\u001b[39m\n\u001b[1;32m    282\u001b[0m         \u001b[38;5;124m\"\u001b[39m\u001b[38;5;124mas it is likely to crash IPython. If you know what you are doing, \u001b[39m\u001b[38;5;124m\"\u001b[39m\n\u001b[1;32m    283\u001b[0m         \u001b[38;5;124m\"\u001b[39m\u001b[38;5;124myou can use builtins\u001b[39m\u001b[38;5;124m'\u001b[39m\u001b[38;5;124m open.\u001b[39m\u001b[38;5;124m\"\u001b[39m\n\u001b[1;32m    284\u001b[0m     )\n\u001b[0;32m--> 286\u001b[0m \u001b[38;5;28;01mreturn\u001b[39;00m io_open(file, \u001b[38;5;241m*\u001b[39margs, \u001b[38;5;241m*\u001b[39m\u001b[38;5;241m*\u001b[39mkwargs)\n",
      "\u001b[0;31mFileNotFoundError\u001b[0m: [Errno 2] No such file or directory: '../data/london_2023.json'"
     ]
    }
   ],
   "source": [
    "# Load each city's data from its JSON file and add it to the list\n",
    "for city, file_path in data_files.items():\n",
    "    with open(file_path, 'r') as file:\n",
    "        data = json.load(file)\n",
    "        city_df = pd.DataFrame(data)\n",
    "        city_df['city'] = city  # Label each row with the city's name\n",
    "        city_dfs.append(city_df)"
   ]
  },
  {
   "cell_type": "markdown",
   "metadata": {},
   "source": [
    "Let's concatenate all the city dataframes into a single dataframe."
   ]
  },
  {
   "cell_type": "code",
   "execution_count": 5,
   "metadata": {},
   "outputs": [],
   "source": [
    "df = pd.concat(city_dfs, ignore_index=True)"
   ]
  },
  {
   "cell_type": "markdown",
   "metadata": {},
   "source": [
    "Display the first few rows to check the structure."
   ]
  },
  {
   "cell_type": "code",
   "execution_count": null,
   "metadata": {},
   "outputs": [],
   "source": [
    "display(df.head(5))"
   ]
  },
  {
   "cell_type": "markdown",
   "metadata": {},
   "source": [
    "Display the last few rows to check the structure."
   ]
  },
  {
   "cell_type": "code",
   "execution_count": null,
   "metadata": {},
   "outputs": [],
   "source": [
    "display(df.tail(5))"
   ]
  },
  {
   "cell_type": "markdown",
   "metadata": {},
   "source": [
    "I also want to check that there should be a total of 1825 entries (365 days x 5 cities) so there is no missing data."
   ]
  },
  {
   "cell_type": "code",
   "execution_count": null,
   "metadata": {},
   "outputs": [],
   "source": [
    "entries = len(df)\n",
    "print(entries)"
   ]
  },
  {
   "cell_type": "markdown",
   "metadata": {},
   "source": [
    "# 2. Calculate Key Metrics for Raininess Analysis 🧮\n",
    "\n",
    "Now that we have obtained the relevant data and sorted it into organised tables, we can calculate the following required metrics. \n",
    "\n",
    "We will be using groupby() function to obtain the data from the corresponding columns required.\n",
    "\n",
    "- Total Rainfall: Sum of precipitation_sum for each city.\n",
    "\n",
    "- Number of Rainy Days: Days with precipitation_sum > 0\n",
    "\n",
    "- Average Rain Intensity: Total Rainfall / Number of Rainy Days\n",
    "\n",
    "\n"
   ]
  },
  {
   "cell_type": "markdown",
   "metadata": {},
   "source": [
    "## 2.1 Total Rainfall\n",
    "\n",
    "This metric gives us a sense of the absolute amount of rainfall occurring in each city which will be helpful to analyse the **rainfall volume** in our plot for Monthly Total Rainfall."
   ]
  },
  {
   "cell_type": "code",
   "execution_count": null,
   "metadata": {},
   "outputs": [],
   "source": [
    "# Group by 'city' and sum the 'precipitation' for each group\n",
    "total_rainfall = df.groupby('city')['precipitation_sum'].sum().reset_index()\n",
    "\n",
    "# Rename the columns for clarity where first column is the city name, second column is the sum of precipitation\n",
    "total_rainfall.columns = ['City', 'Total Rainfall (mm)']\n",
    "\n",
    "# Display the result\n",
    "display(total_rainfall)\n"
   ]
  },
  {
   "cell_type": "markdown",
   "metadata": {},
   "source": [
    "## 2.2 Number of Rainy Days\n",
    "\n",
    "We introduce the size() function to count the number of occurences in each group. In this case, we want to count the number of days precipitation_sum is greater than 0.\n",
    "\n",
    "This metric will give us a sense of the **frequency** and helps put London’s raininess in perspective compared to other cities."
   ]
  },
  {
   "cell_type": "code",
   "execution_count": null,
   "metadata": {},
   "outputs": [],
   "source": [
    "# Filter the DataFrame to include only rows where precipitation_sum > 0\n",
    "rainy_days_df = df[df['precipitation_sum'] > 0]\n",
    "\n",
    "# Group by 'city' and count the number of days for each city\n",
    "rainy_days = rainy_days_df.groupby('city').size().reset_index()\n",
    "\n",
    "# Rename the columns for clarity\n",
    "rainy_days.columns = ['City', 'Rainy Days']\n",
    "\n",
    "# Display the result\n",
    "display(rainy_days)"
   ]
  },
  {
   "cell_type": "markdown",
   "metadata": {},
   "source": [
    "## 2.3 Average Rain Intensity\n",
    "\n",
    "Now, we can use the variable we have formulated in 3.1 and 3.2 to calculate the average rain intensity for each city.\n",
    "\n",
    "This metric will give us a sense of the **lightiness/heaviness** of the rain in London as compared to other cities."
   ]
  },
  {
   "cell_type": "code",
   "execution_count": null,
   "metadata": {},
   "outputs": [],
   "source": [
    "# Group by 'city' and calculate total rainfall and rainy days\n",
    "total_rainfall = df.groupby('city')['precipitation_sum'].sum().reset_index()\n",
    "rainy_days = df[df['precipitation_sum'] > 0].groupby('city').size().reset_index(name='Rainy Days')\n",
    "\n",
    "# Rename the columns for clarity\n",
    "total_rainfall.columns = ['City', 'Total Rainfall (mm)']\n",
    "rainy_days.columns = ['City', 'Rainy Days']\n",
    "\n",
    "# Merge the total_rainfall and rainy_days DataFrames on 'City'\n",
    "rain_data = pd.merge(total_rainfall, rainy_days, on='City')\n",
    "\n",
    "# Calculate the average rain intensity (Total Rainfall / Rainy Days)\n",
    "rain_data['Average Rain Intensity (mm/day)'] = rain_data['Total Rainfall (mm)'] / rain_data['Rainy Days']\n",
    "\n",
    "# Display the result\n",
    "display(rain_data)\n"
   ]
  },
  {
   "cell_type": "markdown",
   "metadata": {},
   "source": [
    "# 3. Visualisations 📊"
   ]
  },
  {
   "cell_type": "markdown",
   "metadata": {},
   "source": [
    "## 3.1 Number of Rainy Days (Bar Chart)\n",
    "\n",
    "This metric shows the total number of days with rainfall throughout the year in each city.\n",
    " \n",
    "**Rationale: A higher number of rainy days can contribute to the perception of a 'rainy' city, even if the rain is light.**\n",
    "\n"
   ]
  },
  {
   "cell_type": "code",
   "execution_count": null,
   "metadata": {},
   "outputs": [],
   "source": [
    "rainy_days_data = (\n",
    "    rain_data[['City', 'Rainy Days']]\n",
    "    .assign(City=lambda df: df['City'].astype('category'))  # Ensure 'City' is treated as a category\n",
    "    .sort_values(by='Rainy Days', ascending=True)  # Sort by 'Rainy Days' in ascending order\n",
    ")\n",
    "\n",
    "plot = (\n",
    "    ggplot(rainy_days_data, aes(x='City', y='Rainy Days', fill='Rainy Days')) + \n",
    "    geom_bar(stat='identity', show_legend=False) +  # Create a bar chart without a legend\n",
    "    geom_text(aes(label='Rainy Days'), position=position_nudge(y=5.5), color='black', size=10) +  # Add labels on bars\n",
    "    scale_fill_manual(values=['#92C5F9', '#4394E5', '#0066CC', '#004D99', '#003366']) +  # Custom color gradient\n",
    "    ggtitle('Figure 1: Singapore Had More Rainy Days Than London', \n",
    "            subtitle='London experienced 35% fewer rainy days compared to Singapore.') +  # Add title and subtitle\n",
    "    theme(\n",
    "        axis_title_x=element_text(size=20),  # Set x-axis title size\n",
    "        axis_title_y=element_text(size=20),  # Set y-axis title size\n",
    "        plot_title=element_text(size=30, face=\"bold\", color='#333333'),  # Title styling\n",
    "        plot_subtitle=element_text(size=20, color=\"grey\"),  # Subtitle styling\n",
    "        axis_text_x=element_text(size=20),  # X-axis text size\n",
    "        axis_text_y=element_text(size=20),  # Y-axis text size\n",
    "        panel_grid_major_y=element_line(color=\"grey\", size=0.3, linetype=\"dotted\"),  # Dashed grid lines\n",
    "        panel_grid_major_x=element_blank(),  # Remove vertical grid lines\n",
    "        legend_position='none'  # Hide the legend\n",
    "    ) + \n",
    "    labs(x='City', y='Number of Rainy Days') +  # Label x and y axes\n",
    "    ggsize(1400, 800)  # Set the plot size\n",
    ")\n",
    "\n",
    "# Display the plot\n",
    "plot\n"
   ]
  },
  {
   "cell_type": "markdown",
   "metadata": {},
   "source": [
    "## 3.2 Monthly Total Rainfall by City (Line Graph)\n",
    "\n",
    "This metric displays the total amount of rainfall each month, highlighting seasonal patterns. \n",
    "\n",
    "**Rationale: It helps compare the actual volume of rain London receives compared to other cities, providing context to its 'rainy' reputation.**"
   ]
  },
  {
   "cell_type": "code",
   "execution_count": null,
   "metadata": {},
   "outputs": [],
   "source": [
    "# Convert 'time' column to datetime format\n",
    "df['time'] = pd.to_datetime(df['time'])\n",
    "\n",
    "# Extract month as a period from 'time' column\n",
    "df['month'] = df['time'].dt.to_period('M')\n",
    "\n",
    "# Prepare data for monthly total rainfall by city using method chaining\n",
    "monthly_rainfall_data = (\n",
    "    df.groupby(['city', 'month'])['precipitation_sum'].sum().reset_index()\n",
    "    .assign(month=lambda df: df['month'].astype(str))  # Convert 'month' to string for plotting\n",
    ")\n",
    "\n",
    "plot = (\n",
    "    ggplot(monthly_rainfall_data, aes(x='month', y='precipitation_sum', color='city', group='city', linetype='city')) + \n",
    "    geom_line(size=2.5) +  # Thicker lines for improved visibility\n",
    "    scale_color_manual(values=['#000000', '#e7298a', '#d95f02', '#1b9e77', '#FF0000']) +  # Set distinct colours for each city\n",
    "    scale_linetype_manual(values=['solid', 'dashed', 'dotted', 'dotdash', 'twodash']) +  # Set line types for each city\n",
    "    ggtitle('Figure 2: Mumbai exhibits extreme rainfall peaks', subtitle='Steady, lower rainfall trends observed in London.') + \n",
    "    theme(\n",
    "        axis_title_x=element_text(size=20, face=\"bold\"),  # Bold x-axis title\n",
    "        axis_title_y=element_text(size=20, face=\"bold\"),  # Bold y-axis title\n",
    "        plot_title=element_text(size=30, face=\"bold\", color='#333333'),  # Bold title styling\n",
    "        plot_subtitle=element_text(size=20, color=\"gray\"),  # Subtitle styling\n",
    "        axis_text_x=element_text(size=20, hjust=1, face=\"bold\"),  # Bold x-axis text with horizontal adjustment\n",
    "        axis_text_y=element_text(size=20, face=\"bold\"),  # Bold y-axis text\n",
    "        panel_grid_major_y=element_line(color=\"lightgray\", size=0.5, linetype=\"dotted\"),  # Dashed y-axis grid lines\n",
    "        panel_grid_major_x=element_blank(),  # Remove x-axis grid lines\n",
    "        legend_position='right',  # Position legend to the right\n",
    "        legend_title=element_text(size=24),  # Larger legend title\n",
    "        legend_text=element_text(size=24)  # Larger legend text\n",
    "    ) + \n",
    "    scale_x_discrete(name='Month', labels=['Jan', 'Feb', 'Mar', 'Apr', 'May', 'Jun', 'Jul', 'Aug', 'Sep', 'Oct', 'Nov', 'Dec']) +  # Custom month labels\n",
    "    labs(x='Month', y='Total Rainfall (mm)', color='City', linetype='City') +  # Axis and legend labels\n",
    "    ggsize(1400, 800)  # Set plot size\n",
    ")\n",
    "\n",
    "# Display the plot\n",
    "plot\n"
   ]
  },
  {
   "cell_type": "markdown",
   "metadata": {},
   "source": [
    "## 3.3 Average Rain Intensity by City (Bar Graph)\n",
    "\n",
    "This metric shows the average amount of rain per rainy day, indicating the intensity of rainfall. \n",
    "\n",
    "**Rationale: A lower intensity suggests lighter rain, whereas higher intensity indicates heavier downpours on rainy days.**"
   ]
  },
  {
   "cell_type": "code",
   "execution_count": null,
   "metadata": {},
   "outputs": [],
   "source": [
    "average_rain_intensity_data = (\n",
    "    rain_data[['City', 'Average Rain Intensity (mm/day)']]\n",
    "    .assign(City=lambda df: df['City'].astype('category'))  # Ensure 'City' is treated as a category\n",
    "    .sort_values(by='Average Rain Intensity (mm/day)', ascending=True)  # Sort by intensity in ascending order\n",
    ")\n",
    "\n",
    "plot = (\n",
    "    ggplot(average_rain_intensity_data, aes(x='City', y='Average Rain Intensity (mm/day)', fill='Average Rain Intensity (mm/day)')) + \n",
    "    geom_bar(stat='identity', show_legend=False) +  # Bar chart without legend\n",
    "    geom_text(\n",
    "        aes(label=average_rain_intensity_data['Average Rain Intensity (mm/day)'].round(2)),  # Rounded labels to 2 decimals\n",
    "        position=position_nudge(y=0.16), color='black', size=10  # Position labels closer to bars\n",
    "    ) + \n",
    "    scale_fill_manual(values=['#92C5F9', '#4394E5', '#0066CC', '#004D99', '#003366']) +  # Custom color gradient\n",
    "    ggtitle(\n",
    "        'Figure 3: Mumbai had the Highest Average Rain Intensity', \n",
    "        subtitle='London’s average rain intensity is 74% lower than Mumbai, highlighting a significant difference.'\n",
    "    ) + \n",
    "    theme(\n",
    "        axis_title_x=element_text(size=20),  # Set x-axis title size\n",
    "        axis_title_y=element_text(size=20),  # Set y-axis title size\n",
    "        plot_title=element_text(size=30, face=\"bold\", color='#333333'),  # Title styling\n",
    "        plot_subtitle=element_text(size=20, color=\"grey\"),  # Subtitle styling\n",
    "        axis_text_x=element_text(size=20),  # X-axis text size\n",
    "        axis_text_y=element_text(size=20),  # Y-axis text size\n",
    "        panel_grid_major_y=element_line(color=\"grey\", size=0.3, linetype=\"dotted\"),  # Dashed y-axis grid lines\n",
    "        panel_grid_major_x=element_blank(),  # Remove x-axis grid lines\n",
    "        legend_position='none'  # Hide legend\n",
    "    ) + \n",
    "    labs(x='City', y='Average Rain Intensity (mm/day)') +  # Axis labels\n",
    "    ggsize(1400, 800)  # Set plot size\n",
    ")\n",
    "\n",
    "# Display the plot\n",
    "plot\n"
   ]
  },
  {
   "cell_type": "markdown",
   "metadata": {},
   "source": [
    "# 4. Conclusion 🎉\n",
    "\n",
    "### Null and Alternative Hypothesis\n",
    "- We use null and alternative hypotheses to establish a baseline (null) assumption that we can test, allowing us to determine if there is enough evidence to reject it in favour of the alternative. This approach helps us make objective conclusions based on data.\n",
    "\n",
    "- Null Hypothesis (H₀): London is rainy.\n",
    "- Alternative Hypothesis (H₁): London is not rainy."
   ]
  },
  {
   "cell_type": "markdown",
   "metadata": {},
   "source": [
    "### Figure Conclusions\n",
    "**Figure 1: Number of Rainy Days (Frequency)**\n",
    "- Conclusion: London had 228 rainy days in 2023. Although this is fewer than Singapore’s 350 rainy days, it still means that London experienced rain on 62.4% (228/365) of the days in the year. This high frequency supports the idea that London is indeed a rainy city.\n",
    "\n",
    "**Figure 2: Monthly Total Rainfall (Volume)**\n",
    "- Conclusion: London’s rainfall is steady and moderate compared to cities with extreme rain peaks, like Mumbai. This suggests that while London does not experience heavy downpours, it still receives a consistent volume of rain each month, which aligns with its rainy reputation.\n",
    "\n",
    "**Figure 3: Average Rain Intensity (Lightness/Heaviness of Rain)**\n",
    "- Conclusion: London’s rain intensity is much lighter compared to cities like Mumbai, where rain is heavier. This means that although it rains frequently in London, the rain tends to be light or drizzly rather than intense."
   ]
  },
  {
   "cell_type": "markdown",
   "metadata": {},
   "source": [
    "### Overall Conclusion and Hypothesis Decision\n",
    "Based on these figures, we can conclude:\n",
    "\n",
    "- London experiences frequent rain (as shown by its high number of rainy days), and it receives a consistent amount of rainfall each month, albeit with lighter rain intensity. This combination suggests that London is indeed a \"rainy\" city, though not the heaviest or most intense in rainfall.\n",
    "\n",
    "Decision: We fail to reject the null hypothesis (H₀), which states that London is rainy. The data supports the notion that while London may not have the heaviest rain, it does rain frequently enough to fit the rainy image associated with the city.\n",
    "\n",
    "**In summary, London's raininess may not be as extreme as often portrayed in movies, but it is still valid to consider it a rainy city based on frequency and consistency.** 😊🌧️"
   ]
  },
  {
   "cell_type": "markdown",
   "metadata": {},
   "source": []
  }
 ],
 "metadata": {
  "kernelspec": {
   "display_name": "base",
   "language": "python",
   "name": "python3"
  },
  "language_info": {
   "codemirror_mode": {
    "name": "ipython",
    "version": 3
   },
   "file_extension": ".py",
   "mimetype": "text/x-python",
   "name": "python",
   "nbconvert_exporter": "python",
   "pygments_lexer": "ipython3",
   "version": "3.12.4"
  }
 },
 "nbformat": 4,
 "nbformat_minor": 2
}
