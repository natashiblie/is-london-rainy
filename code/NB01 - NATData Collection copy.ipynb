{
 "cells": [
  {
   "cell_type": "markdown",
   "metadata": {},
   "source": [
    "# 1. ⚙️ Setup\n",
    "\n",
    "## 1.1 Data Collection Strategy\n",
    "\n",
    "In this notebook, I will focus on the **Historical Weather Data** endpoint on the [Open-Meteo API](https://open-meteo.com/en/docs):\n",
    "\n",
    "| Endpoint         | URL starts with                                      |\n",
    "|------------------|------------------------------------------------------|\n",
    "| [Historical Weather Data](https://open-meteo.com/en/docs/historical-weather-api) | `https://archive-api.open-meteo.com/v1/archive` |\n",
    "\n",
    "The objective is to assess the raininess of **London, UK** relative to other cities with varied climates. I will gather historical precipitation data for the entire year of 2023, allowing for a detailed comparison of annual rain patterns.\n",
    "\n",
    "### Cities Selected for Comparison:\n",
    "1. **London, UK** – The main city of interest, often portrayed as rainy.\n",
    "2. **Singapore** – Known for its tropical climate with high annual rainfall.\n",
    "3. **Cairo, Egypt** – Represents a dry climate with very low annual rainfall.\n",
    "4. **Buenos Aires, Argentina** – A moderate climate with regular seasonal rainfall.\n",
    "5. **Mumbai, India** – Known for very high rainfall, particularly during the monsoon season.\n",
    "\n",
    "### Data Collection Scope\n",
    "\n",
    "For each city, I retrieved the following data over the period from **January 1, 2023, to December 31, 2023**:\n",
    "- **Daily Precipitation** (`precipitation_sum`) to measure total rainfall.\n",
    "- **Precipitation Hours** (`precipitation_hours`) to capture the duration of rainfall each day.\n",
    "\n",
    "This dataset provides the basis for calculating metrics such as **Total Rainfall**, **Number of Rainy Days**, **Average Rain Intensity**, and **Average Rain Duration**. These metrics allow for a balanced and comprehensive comparison of raininess across regions, helping to evaluate if London’s reputation as a rainy city holds up against cities with distinct climates.\n"
   ]
  },
  {
   "cell_type": "code",
   "execution_count": 1,
   "metadata": {},
   "outputs": [
    {
     "name": "stderr",
     "output_type": "stream",
     "text": [
      "/Users/natashiblie/anaconda3/lib/python3.11/site-packages/pandas/core/arrays/masked.py:60: UserWarning: Pandas requires version '1.3.6' or newer of 'bottleneck' (version '1.3.5' currently installed).\n",
      "  from pandas.core import (\n"
     ]
    }
   ],
   "source": [
    "import os\n",
    "import json\n",
    "\n",
    "import requests\n",
    "\n",
    "import pandas as pd"
   ]
  },
  {
   "cell_type": "markdown",
   "metadata": {},
   "source": [
    "# 1.2 Helpful functions"
   ]
  },
  {
   "cell_type": "markdown",
   "metadata": {},
   "source": [
    "**The code below reads the world cities data and return the latitude and longitude of a city. You can use it to get the coordinates of the city you want to analyse.**"
   ]
  },
  {
   "cell_type": "code",
   "execution_count": 2,
   "metadata": {},
   "outputs": [],
   "source": [
    "def get_lat_lon(country_code, city_name):\n",
    "    \n",
    "    filepath = '../data/world_cities.csv'\n",
    "    world_cities = pd.read_csv(filepath)\n",
    "\n",
    "    # This is how we filter data in pandas\n",
    "    city_data = world_cities[(world_cities['country'] == country_code) & \n",
    "                             (world_cities['name'] == city_name)]\n",
    "    \n",
    "    # Convert the data to a list of dictionaries\n",
    "    city_data = city_data.to_dict('records')\n",
    "    \n",
    "    if len(city_data) == 0:\n",
    "        raise ValueError(f\"No records found for {city_name}, {country_code} in {filepath}\")\n",
    "\n",
    "    latitude = city_data[0]['lat']\n",
    "    longitude = city_data[0]['lng']\n",
    "\n",
    "    return latitude, longitude"
   ]
  },
  {
   "cell_type": "markdown",
   "metadata": {},
   "source": [
    "**Let's test this function for Singapore, SG.**"
   ]
  },
  {
   "cell_type": "code",
   "execution_count": 3,
   "metadata": {},
   "outputs": [
    {
     "data": {
      "text/plain": [
       "(1.28967, 103.85007)"
      ]
     },
     "execution_count": 3,
     "metadata": {},
     "output_type": "execute_result"
    }
   ],
   "source": [
    "get_lat_lon(\"SG\", \"Singapore\")"
   ]
  },
  {
   "cell_type": "markdown",
   "metadata": {},
   "source": [
    "**I wrote a function to construct the URL for me. This way I can call it anytime inside or outside another function:**"
   ]
  },
  {
   "cell_type": "code",
   "execution_count": 4,
   "metadata": {},
   "outputs": [],
   "source": [
    "def build_url(latitude: float, longitude: float, start_date:str , end_date: str):\n",
    "    base_historical_url = \"https://archive-api.open-meteo.com/v1/era5?\"\n",
    "    params_lat_long     = \"latitude=\" + str(latitude) + \"&longitude=\"  + str(longitude)\n",
    "    params_date         = \"&start_date=\" + start_date + \"&end_date=\" + end_date\n",
    "\n",
    "    # I want the daily precipitation sum and and precipitation hours.\n",
    "    # Setting the timezone to automatically adjust the time to the local time of the location\n",
    "    params_others       = \"&daily=precipitation_sum,precipitation_hours&timezone=auto\"\n",
    "\n",
    "    final_url = base_historical_url + params_lat_long + params_date + params_others\n",
    "\n",
    "    return final_url"
   ]
  },
  {
   "cell_type": "markdown",
   "metadata": {},
   "source": [
    "**Let's test the function for Singapore, SG.**"
   ]
  },
  {
   "cell_type": "code",
   "execution_count": 5,
   "metadata": {},
   "outputs": [
    {
     "data": {
      "text/plain": [
       "'https://archive-api.open-meteo.com/v1/era5?latitude=1.28967&longitude=103.8501&start_date=2023-01-01&end_date=2023-01-02&daily=precipitation_sum,precipitation_hours&timezone=auto'"
      ]
     },
     "execution_count": 5,
     "metadata": {},
     "output_type": "execute_result"
    }
   ],
   "source": [
    "build_url(1.28967, 103.8501, \"2023-01-01\", \"2023-01-02\")"
   ]
  },
  {
   "cell_type": "code",
   "execution_count": 6,
   "metadata": {},
   "outputs": [],
   "source": [
    "# Compile a list of city data, including country code and city name\n",
    "cities = [\n",
    "    (\"GB\", \"London\"),       \n",
    "    (\"SG\", \"Singapore\"),    \n",
    "    (\"EG\", \"Cairo\"),        \n",
    "    (\"AR\", \"Buenos Aires\"), \n",
    "    (\"IN\", \"Mumbai\")        \n",
    "]\n"
   ]
  },
  {
   "cell_type": "markdown",
   "metadata": {},
   "source": [
    "**Compile latitudes and longitudes for all cities**"
   ]
  },
  {
   "cell_type": "code",
   "execution_count": 7,
   "metadata": {},
   "outputs": [
    {
     "data": {
      "text/plain": [
       "[('GB', 'London', 51.50853, -0.12574),\n",
       " ('SG', 'Singapore', 1.28967, 103.85007),\n",
       " ('EG', 'Cairo', 30.06263, 31.24967),\n",
       " ('AR', 'Buenos Aires', -34.61315, -58.37723),\n",
       " ('IN', 'Mumbai', 19.07283, 72.88261)]"
      ]
     },
     "execution_count": 7,
     "metadata": {},
     "output_type": "execute_result"
    }
   ],
   "source": [
    "geo_data = []\n",
    "\n",
    "for country_code, city_name in cities:\n",
    "    latitude, longitude = get_lat_lon(country_code, city_name)\n",
    "    geo_data.append((country_code, city_name, latitude, longitude))\n",
    "\n",
    "geo_data"
   ]
  },
  {
   "cell_type": "markdown",
   "metadata": {},
   "source": [
    "## 2. Historical Rainfall"
   ]
  },
  {
   "cell_type": "code",
   "execution_count": 8,
   "metadata": {},
   "outputs": [],
   "source": [
    "from datetime import datetime\n",
    "\n",
    "def get_historical_data(country_code, city_name, start_date=None, end_date=None):\n",
    "    \"\"\"\n",
    "    Retrieves historical weather data for a specific city using default dates if none are provided.\n",
    "    \n",
    "    Parameters:\n",
    "        country_code (str): The country code of the city.\n",
    "        city_name (str): The name of the city.\n",
    "        start_date (str): Optional; Start date in \"YYYY-MM-DD\" format. Defaults to Jan 1, 2023.\n",
    "        end_date (str): Optional; End date in \"YYYY-MM-DD\" format. Defaults to Dec 31, 2023.\n",
    "    \n",
    "    Returns:\n",
    "        dict: Dictionary of historical weather data.\n",
    "    \"\"\"\n",
    "    # Set default dates to the full year 2023 if not provided\n",
    "    if not start_date:\n",
    "        start_date = \"2023-01-01\"\n",
    "    if not end_date:\n",
    "        end_date = \"2023-12-31\"\n",
    "    \n",
    "    # Retrieve latitude and longitude from the world_cities data\n",
    "    latitude, longitude = get_lat_lon(country_code, city_name)\n",
    "    \n",
    "    # Use the build_url function to construct the final API URL\n",
    "    url = build_url(latitude, longitude, start_date, end_date)\n",
    "    \n",
    "    # Make API request and return data\n",
    "    response = requests.get(url)\n",
    "    data = response.json()\n",
    "    \n",
    "    return data.get(\"daily\", {})\n",
    "\n",
    "# Main code for gathering historical rainfall data for each city\n",
    "historical_rainfall = {}\n",
    "\n",
    "for country_code, city_name, _, _ in geo_data:\n",
    "    # Call get_historical_data without specifying dates\n",
    "    rainfall = get_historical_data(country_code, city_name)\n",
    "    historical_rainfall[city_name] = rainfall\n"
   ]
  },
  {
   "cell_type": "markdown",
   "metadata": {},
   "source": [
    "A few checks to confirm it worked:"
   ]
  },
  {
   "cell_type": "code",
   "execution_count": 9,
   "metadata": {},
   "outputs": [
    {
     "data": {
      "text/plain": [
       "dict_keys(['London', 'Singapore', 'Cairo', 'Buenos Aires', 'Mumbai'])"
      ]
     },
     "execution_count": 9,
     "metadata": {},
     "output_type": "execute_result"
    }
   ],
   "source": [
    "historical_rainfall.keys()"
   ]
  },
  {
   "cell_type": "code",
   "execution_count": 10,
   "metadata": {},
   "outputs": [
    {
     "name": "stdout",
     "output_type": "stream",
     "text": [
      "The value for key London     is a list of 3 elements\n",
      "The value for key Singapore  is a list of 3 elements\n",
      "The value for key Cairo      is a list of 3 elements\n",
      "The value for key Buenos Aires is a list of 3 elements\n",
      "The value for key Mumbai     is a list of 3 elements\n"
     ]
    }
   ],
   "source": [
    "for city, rainfall in historical_rainfall.items():\n",
    "    print(f\"The value for key {city:10s} is a list of {len(rainfall)} elements\")"
   ]
  },
  {
   "cell_type": "markdown",
   "metadata": {},
   "source": [
    "**Save to file:**"
   ]
  },
  {
   "cell_type": "code",
   "execution_count": 11,
   "metadata": {},
   "outputs": [],
   "source": [
    "with open('../data/multicity_historical.json', 'w') as file:\n",
    "    json.dump(historical_rainfall, file)"
   ]
  }
 ],
 "metadata": {
  "kernelspec": {
   "display_name": "base",
   "language": "python",
   "name": "python3"
  },
  "language_info": {
   "codemirror_mode": {
    "name": "ipython",
    "version": 3
   },
   "file_extension": ".py",
   "mimetype": "text/x-python",
   "name": "python",
   "nbconvert_exporter": "python",
   "pygments_lexer": "ipython3",
   "version": "3.11.5"
  }
 },
 "nbformat": 4,
 "nbformat_minor": 2
}
